{
  "cells": [
    {
      "cell_type": "markdown",
      "metadata": {},
      "source": [
        "## THIS NOTEBOOK USED FOR FINAL RESULTS FOR THIS MODEL. ALL SCREENSHOTS INCLUDED IN THE REPORT AND RESULTS PRESENT IN THIS NOTEBOOK"
      ]
    },
    {
      "cell_type": "markdown",
      "metadata": {
        "id": "BVwEA2Tha5Ff"
      },
      "source": [
        "##### **Our Project**\n",
        "\n",
        "For our project, we decided to present 4 models our our text classification problem. The end goal for our project is to compare all four models and pick which one performed the best. \n",
        "\n",
        "For this project, I picked SVM to perform on the dataset. \n",
        "\n",
        "Scoring metric to be used is F1 score."
      ]
    },
    {
      "cell_type": "markdown",
      "metadata": {
        "id": "KQHyUGVba5Fi"
      },
      "source": [
        "#### **Goals for this notebook:**\n",
        "\n",
        "* Perform cleaning and prepping of data\n",
        "* Choose a metric for scoring\n",
        "* Go through SVM model for text classification"
      ]
    },
    {
      "cell_type": "markdown",
      "metadata": {
        "id": "kFsvcS-plOrk"
      },
      "source": [
        "## Note that I am not using the processed file that I have created in my previous notebooks. I am using the one processed by Ganesh. \n"
      ]
    },
    {
      "cell_type": "code",
      "execution_count": 4,
      "metadata": {
        "id": "tLkC0Mgrc8BP"
      },
      "outputs": [],
      "source": [
        "# from google.colab import files\n",
        "# uploaded = files.upload()\n"
      ]
    },
    {
      "cell_type": "code",
      "execution_count": 5,
      "metadata": {
        "colab": {
          "base_uri": "https://localhost:8080/"
        },
        "id": "nEaMxhVdjJ4u",
        "outputId": "004f4c1c-93f9-482c-e338-e7766a53cba4"
      },
      "outputs": [],
      "source": [
        "\n",
        "# !unzip processed_complaints.zip -d processed_complaints.csv\n"
      ]
    },
    {
      "cell_type": "code",
      "execution_count": 6,
      "metadata": {
        "id": "Q-VxfJxQa5Fj"
      },
      "outputs": [],
      "source": [
        "import pandas as pd\n",
        "import matplotlib.pyplot as plt\n",
        "import string\n",
        "import numpy as np\n",
        "from sklearn.svm import SVC\n",
        "from sklearn.linear_model import LogisticRegression\n",
        "from sklearn.feature_extraction.text import TfidfVectorizer, CountVectorizer\n",
        "from sklearn import preprocessing, decomposition, model_selection, metrics, pipeline\n",
        "from sklearn.decomposition import TruncatedSVD\n",
        "from sklearn.model_selection import train_test_split\n",
        "# import nltk\n",
        "# from nltk import word_tokenize\n",
        "# from nltk.corpus import stopwords\n",
        "# from nltk.stem.wordnet import WordNetLemmatizer\n",
        "# stop_words = stopwords.words('english')"
      ]
    },
    {
      "cell_type": "code",
      "execution_count": 7,
      "metadata": {
        "id": "XEDSBPLsa5Fk"
      },
      "outputs": [],
      "source": [
        "# Loading the processed dataset created in the '02_Data_Exploration_Anshul_Shandilya' notebook.\n",
        "df = pd.read_csv('processed_complaints.csv')"
      ]
    },
    {
      "cell_type": "code",
      "execution_count": 8,
      "metadata": {
        "colab": {
          "base_uri": "https://localhost:8080/"
        },
        "id": "MO8sIFsKa5Fl",
        "outputId": "9c8940e6-17f6-4fdc-fd93-a6a060399596"
      },
      "outputs": [
        {
          "data": {
            "text/plain": [
              "(1112420, 3)"
            ]
          },
          "execution_count": 8,
          "metadata": {},
          "output_type": "execute_result"
        }
      ],
      "source": [
        "df.shape"
      ]
    },
    {
      "cell_type": "code",
      "execution_count": 9,
      "metadata": {
        "colab": {
          "base_uri": "https://localhost:8080/",
          "height": 206
        },
        "id": "V6uauBMGa5Fl",
        "outputId": "1573a224-f895-4649-93c1-185ae9b2cb7f"
      },
      "outputs": [
        {
          "data": {
            "text/html": [
              "<div>\n",
              "<style scoped>\n",
              "    .dataframe tbody tr th:only-of-type {\n",
              "        vertical-align: middle;\n",
              "    }\n",
              "\n",
              "    .dataframe tbody tr th {\n",
              "        vertical-align: top;\n",
              "    }\n",
              "\n",
              "    .dataframe thead th {\n",
              "        text-align: right;\n",
              "    }\n",
              "</style>\n",
              "<table border=\"1\" class=\"dataframe\">\n",
              "  <thead>\n",
              "    <tr style=\"text-align: right;\">\n",
              "      <th></th>\n",
              "      <th>Unnamed: 0</th>\n",
              "      <th>Product</th>\n",
              "      <th>Complaint</th>\n",
              "    </tr>\n",
              "  </thead>\n",
              "  <tbody>\n",
              "    <tr>\n",
              "      <th>0</th>\n",
              "      <td>38</td>\n",
              "      <td>Debt Collection</td>\n",
              "      <td>owe money never received bill indicating balan...</td>\n",
              "    </tr>\n",
              "    <tr>\n",
              "      <th>1</th>\n",
              "      <td>39</td>\n",
              "      <td>Debt Collection</td>\n",
              "      <td>attempting collect fund valuation service prov...</td>\n",
              "    </tr>\n",
              "    <tr>\n",
              "      <th>2</th>\n",
              "      <td>41</td>\n",
              "      <td>Credit Reporting and Services</td>\n",
              "      <td>experian didnt consent inquiry also name incor...</td>\n",
              "    </tr>\n",
              "    <tr>\n",
              "      <th>3</th>\n",
              "      <td>68</td>\n",
              "      <td>Banking Services</td>\n",
              "      <td>citibank froze account contained time make col...</td>\n",
              "    </tr>\n",
              "    <tr>\n",
              "      <th>4</th>\n",
              "      <td>129</td>\n",
              "      <td>Credit Reporting and Services</td>\n",
              "      <td>accordance fair credit reporting act account v...</td>\n",
              "    </tr>\n",
              "  </tbody>\n",
              "</table>\n",
              "</div>"
            ],
            "text/plain": [
              "   Unnamed: 0                        Product  \\\n",
              "0          38                Debt Collection   \n",
              "1          39                Debt Collection   \n",
              "2          41  Credit Reporting and Services   \n",
              "3          68               Banking Services   \n",
              "4         129  Credit Reporting and Services   \n",
              "\n",
              "                                           Complaint  \n",
              "0  owe money never received bill indicating balan...  \n",
              "1  attempting collect fund valuation service prov...  \n",
              "2  experian didnt consent inquiry also name incor...  \n",
              "3  citibank froze account contained time make col...  \n",
              "4  accordance fair credit reporting act account v...  "
            ]
          },
          "execution_count": 9,
          "metadata": {},
          "output_type": "execute_result"
        }
      ],
      "source": [
        "df.head()"
      ]
    },
    {
      "cell_type": "code",
      "execution_count": 10,
      "metadata": {
        "id": "XdinHr9FkCZz"
      },
      "outputs": [],
      "source": [
        "# Change Complaint column to narrative\n",
        "df = df.rename(columns={'Product':'product','Complaint':'narrative'})"
      ]
    },
    {
      "cell_type": "code",
      "execution_count": 11,
      "metadata": {
        "colab": {
          "base_uri": "https://localhost:8080/",
          "height": 206
        },
        "id": "GCnomqEdlGqk",
        "outputId": "8f2c9cd9-a359-427e-a7a1-47bd0a824f82"
      },
      "outputs": [
        {
          "data": {
            "text/html": [
              "<div>\n",
              "<style scoped>\n",
              "    .dataframe tbody tr th:only-of-type {\n",
              "        vertical-align: middle;\n",
              "    }\n",
              "\n",
              "    .dataframe tbody tr th {\n",
              "        vertical-align: top;\n",
              "    }\n",
              "\n",
              "    .dataframe thead th {\n",
              "        text-align: right;\n",
              "    }\n",
              "</style>\n",
              "<table border=\"1\" class=\"dataframe\">\n",
              "  <thead>\n",
              "    <tr style=\"text-align: right;\">\n",
              "      <th></th>\n",
              "      <th>Unnamed: 0</th>\n",
              "      <th>product</th>\n",
              "      <th>narrative</th>\n",
              "    </tr>\n",
              "  </thead>\n",
              "  <tbody>\n",
              "    <tr>\n",
              "      <th>0</th>\n",
              "      <td>38</td>\n",
              "      <td>Debt Collection</td>\n",
              "      <td>owe money never received bill indicating balan...</td>\n",
              "    </tr>\n",
              "    <tr>\n",
              "      <th>1</th>\n",
              "      <td>39</td>\n",
              "      <td>Debt Collection</td>\n",
              "      <td>attempting collect fund valuation service prov...</td>\n",
              "    </tr>\n",
              "    <tr>\n",
              "      <th>2</th>\n",
              "      <td>41</td>\n",
              "      <td>Credit Reporting and Services</td>\n",
              "      <td>experian didnt consent inquiry also name incor...</td>\n",
              "    </tr>\n",
              "    <tr>\n",
              "      <th>3</th>\n",
              "      <td>68</td>\n",
              "      <td>Banking Services</td>\n",
              "      <td>citibank froze account contained time make col...</td>\n",
              "    </tr>\n",
              "    <tr>\n",
              "      <th>4</th>\n",
              "      <td>129</td>\n",
              "      <td>Credit Reporting and Services</td>\n",
              "      <td>accordance fair credit reporting act account v...</td>\n",
              "    </tr>\n",
              "  </tbody>\n",
              "</table>\n",
              "</div>"
            ],
            "text/plain": [
              "   Unnamed: 0                        product  \\\n",
              "0          38                Debt Collection   \n",
              "1          39                Debt Collection   \n",
              "2          41  Credit Reporting and Services   \n",
              "3          68               Banking Services   \n",
              "4         129  Credit Reporting and Services   \n",
              "\n",
              "                                           narrative  \n",
              "0  owe money never received bill indicating balan...  \n",
              "1  attempting collect fund valuation service prov...  \n",
              "2  experian didnt consent inquiry also name incor...  \n",
              "3  citibank froze account contained time make col...  \n",
              "4  accordance fair credit reporting act account v...  "
            ]
          },
          "execution_count": 11,
          "metadata": {},
          "output_type": "execute_result"
        }
      ],
      "source": [
        "df.head()"
      ]
    },
    {
      "cell_type": "code",
      "execution_count": 12,
      "metadata": {
        "colab": {
          "base_uri": "https://localhost:8080/",
          "height": 70
        },
        "id": "Rbtc0wFMa5Fm",
        "outputId": "3eb93377-ceb6-41c4-f49d-49ddfc55a111"
      },
      "outputs": [
        {
          "data": {
            "text/plain": [
              "'time try fix issue transunion contact retained credit reporting agency transunion continued allow account report name materially false fraudulent account also sending registered mail agency dependent outcome choose next legal step please cease desist reporting account failure fulfill fiduciary duty data furnisher inevitably result lawsuit filed behalf fiduciary duty fcra b respond within business day receipt fcra b read consumer reporting agency shall block reporting information file consumer later business day date receipt'"
            ]
          },
          "execution_count": 12,
          "metadata": {},
          "output_type": "execute_result"
        }
      ],
      "source": [
        "df.loc[345]['narrative']\n"
      ]
    },
    {
      "cell_type": "markdown",
      "metadata": {
        "id": "PqKtsC4va5Fm"
      },
      "source": [
        "Here, we still have the narrative text in normal text. Let's see if we can do something about it."
      ]
    },
    {
      "cell_type": "code",
      "execution_count": 13,
      "metadata": {
        "colab": {
          "base_uri": "https://localhost:8080/"
        },
        "id": "hVG2pYq6a5Fo",
        "outputId": "ebc28be3-9962-4b23-ae6b-80b4bbf0b996"
      },
      "outputs": [
        {
          "data": {
            "text/plain": [
              "1112420"
            ]
          },
          "execution_count": 13,
          "metadata": {},
          "output_type": "execute_result"
        }
      ],
      "source": [
        "len(df)"
      ]
    },
    {
      "cell_type": "markdown",
      "metadata": {
        "id": "Ux9a9zD9a5Fp"
      },
      "source": [
        "Since working on this dataset, the dataset is huge. So we will work only on randomly selected sample from the original dataset."
      ]
    },
    {
      "cell_type": "code",
      "execution_count": 14,
      "metadata": {
        "id": "0VqAgLJxa5Fp"
      },
      "outputs": [],
      "source": [
        "sample_size = 100000\n",
        "sample_df = df.sample(sample_size, random_state=42)\n",
        "sample_df.reset_index(inplace=True)"
      ]
    },
    {
      "cell_type": "code",
      "execution_count": 15,
      "metadata": {
        "colab": {
          "base_uri": "https://localhost:8080/"
        },
        "id": "_COKT2-Aa5Fp",
        "outputId": "18181aa3-0327-4f07-96a0-155ece3b77ca"
      },
      "outputs": [
        {
          "name": "stdout",
          "output_type": "stream",
          "text": [
            "(100000, 4)\n"
          ]
        }
      ],
      "source": [
        "sample_df.head()\n",
        "print(sample_df.shape)"
      ]
    },
    {
      "cell_type": "markdown",
      "metadata": {
        "id": "-voC14Wpa5Fq"
      },
      "source": [
        "##### Saving the sample dataset.\n",
        "\n",
        "Now that we have the processed complaints with processed narrative, we will save it"
      ]
    },
    {
      "cell_type": "code",
      "execution_count": 16,
      "metadata": {
        "colab": {
          "base_uri": "https://localhost:8080/"
        },
        "id": "MTcYZT4xa5Fq",
        "outputId": "8b1c97b1-ac88-46b0-e17f-b4ea65858d9b"
      },
      "outputs": [
        {
          "data": {
            "text/plain": [
              "(100000, 4)"
            ]
          },
          "execution_count": 16,
          "metadata": {},
          "output_type": "execute_result"
        }
      ],
      "source": [
        "sample_df.shape"
      ]
    },
    {
      "cell_type": "code",
      "execution_count": 17,
      "metadata": {
        "id": "1RVuZICya5Fq"
      },
      "outputs": [],
      "source": [
        "sample_df.isnull().sum()\n",
        "sample_df.dropna(inplace=True)"
      ]
    },
    {
      "cell_type": "markdown",
      "metadata": {
        "id": "7fc5F0C8a5Fr"
      },
      "source": [
        "Now, we have loaded the dataset. Probably 'sub_product', 'Issue' and 'sub_issue' rows are redundant for our initial work as I only plan to use the 'product' as the class labels and the 'narrative' as the training data. \n",
        "\n",
        "##### Initial Steps using the SVC algorithm:\n",
        "\n",
        "* Extract the labels using preprocessing.LabelEncoder()\n",
        "* Split the data using the train_test_split() function into 20% test size and the rest as training data. Shuffle will we set as True to randomise the data\n",
        "* Use the 'narrative' row as our training data\n",
        "* Build the initial model"
      ]
    },
    {
      "cell_type": "markdown",
      "metadata": {
        "id": "FVZwwiWMa5Fr"
      },
      "source": [
        "Extracting the labels"
      ]
    },
    {
      "cell_type": "code",
      "execution_count": 18,
      "metadata": {
        "id": "Xp-cCg9aa5Fr"
      },
      "outputs": [],
      "source": [
        "encoded_labels = preprocessing.LabelEncoder()\n",
        "labels = encoded_labels.fit_transform(sample_df['product'])"
      ]
    },
    {
      "cell_type": "code",
      "execution_count": 19,
      "metadata": {
        "colab": {
          "base_uri": "https://localhost:8080/"
        },
        "id": "iwj6gNd0a5Fr",
        "outputId": "a69ed09b-d4df-4983-c110-0aa62de6dab7"
      },
      "outputs": [
        {
          "data": {
            "text/plain": [
              "(99992,)"
            ]
          },
          "execution_count": 19,
          "metadata": {},
          "output_type": "execute_result"
        }
      ],
      "source": [
        "labels.shape"
      ]
    },
    {
      "cell_type": "markdown",
      "metadata": {
        "id": "E1aZsKHxa5Fr"
      },
      "source": [
        "Splitting the data into test and train data (20% test)"
      ]
    },
    {
      "cell_type": "code",
      "execution_count": 20,
      "metadata": {
        "id": "l_IlnTDqa5Fs"
      },
      "outputs": [],
      "source": [
        "# Splitting the dataset into train and test sets.\n",
        "x_train, x_test, y_train, y_test = train_test_split(sample_df['narrative'], labels, stratify = labels, test_size=0.2, random_state=47, shuffle=True)"
      ]
    },
    {
      "cell_type": "code",
      "execution_count": 21,
      "metadata": {
        "colab": {
          "base_uri": "https://localhost:8080/"
        },
        "id": "arhqDl9ya5Fs",
        "outputId": "5387f3df-c8e6-4b1e-dfac-2cb59f32d442"
      },
      "outputs": [
        {
          "name": "stdout",
          "output_type": "stream",
          "text": [
            "(79993,)\n",
            "(19999,)\n"
          ]
        }
      ],
      "source": [
        "print(x_train.shape)\n",
        "print(x_test.shape)"
      ]
    },
    {
      "cell_type": "markdown",
      "metadata": {
        "id": "Lh8M_2WOa5Fs"
      },
      "source": [
        "##### Now that we have our train and test data, we will build a model."
      ]
    },
    {
      "cell_type": "code",
      "execution_count": 22,
      "metadata": {
        "id": "8Xlq9z31a5Fs"
      },
      "outputs": [],
      "source": [
        "# Function to plot the prediced values against the actual values\n",
        "def plot_actual_vs_predicted(actual, predicted):\n",
        "    figure, ax = plt.subplots()\n",
        "    ax.scatter(actual, predicted, edgecolors=(0, 0, 0))\n",
        "    ax.plot([actual.min(), actual.max()], [actual.min(), actual.max()], 'k--', lw=4)\n",
        "    ax.set_xlabel('Actual')\n",
        "    ax.set_ylabel('Predicted')\n",
        "    plt.show()"
      ]
    },
    {
      "cell_type": "markdown",
      "metadata": {
        "id": "dkBAPXdga5Fs"
      },
      "source": [
        "First, I will initialise a TF-IDF model."
      ]
    },
    {
      "cell_type": "code",
      "execution_count": 23,
      "metadata": {
        "id": "GpqZod6la5Fs"
      },
      "outputs": [],
      "source": [
        "tfidf = TfidfVectorizer(min_df=3, max_features=None, strip_accents='unicode', analyzer='word', token_pattern=r'\\w{1,}', ngram_range=(1, 3), use_idf=1, smooth_idf=1, sublinear_tf=1, stop_words = 'english')"
      ]
    },
    {
      "cell_type": "markdown",
      "metadata": {
        "id": "JF18_nNOa5Fs"
      },
      "source": [
        "Now, I will apply the TF-IDF model on both the test and train data (will take time since the num. of data is high)"
      ]
    },
    {
      "cell_type": "code",
      "execution_count": 24,
      "metadata": {
        "colab": {
          "base_uri": "https://localhost:8080/"
        },
        "id": "eEBa1Rfza5Fs",
        "outputId": "572aef13-9f7b-4674-c8aa-c5d82171bce8"
      },
      "outputs": [
        {
          "data": {
            "text/html": [
              "<style>#sk-container-id-1 {color: black;background-color: white;}#sk-container-id-1 pre{padding: 0;}#sk-container-id-1 div.sk-toggleable {background-color: white;}#sk-container-id-1 label.sk-toggleable__label {cursor: pointer;display: block;width: 100%;margin-bottom: 0;padding: 0.3em;box-sizing: border-box;text-align: center;}#sk-container-id-1 label.sk-toggleable__label-arrow:before {content: \"▸\";float: left;margin-right: 0.25em;color: #696969;}#sk-container-id-1 label.sk-toggleable__label-arrow:hover:before {color: black;}#sk-container-id-1 div.sk-estimator:hover label.sk-toggleable__label-arrow:before {color: black;}#sk-container-id-1 div.sk-toggleable__content {max-height: 0;max-width: 0;overflow: hidden;text-align: left;background-color: #f0f8ff;}#sk-container-id-1 div.sk-toggleable__content pre {margin: 0.2em;color: black;border-radius: 0.25em;background-color: #f0f8ff;}#sk-container-id-1 input.sk-toggleable__control:checked~div.sk-toggleable__content {max-height: 200px;max-width: 100%;overflow: auto;}#sk-container-id-1 input.sk-toggleable__control:checked~label.sk-toggleable__label-arrow:before {content: \"▾\";}#sk-container-id-1 div.sk-estimator input.sk-toggleable__control:checked~label.sk-toggleable__label {background-color: #d4ebff;}#sk-container-id-1 div.sk-label input.sk-toggleable__control:checked~label.sk-toggleable__label {background-color: #d4ebff;}#sk-container-id-1 input.sk-hidden--visually {border: 0;clip: rect(1px 1px 1px 1px);clip: rect(1px, 1px, 1px, 1px);height: 1px;margin: -1px;overflow: hidden;padding: 0;position: absolute;width: 1px;}#sk-container-id-1 div.sk-estimator {font-family: monospace;background-color: #f0f8ff;border: 1px dotted black;border-radius: 0.25em;box-sizing: border-box;margin-bottom: 0.5em;}#sk-container-id-1 div.sk-estimator:hover {background-color: #d4ebff;}#sk-container-id-1 div.sk-parallel-item::after {content: \"\";width: 100%;border-bottom: 1px solid gray;flex-grow: 1;}#sk-container-id-1 div.sk-label:hover label.sk-toggleable__label {background-color: #d4ebff;}#sk-container-id-1 div.sk-serial::before {content: \"\";position: absolute;border-left: 1px solid gray;box-sizing: border-box;top: 0;bottom: 0;left: 50%;z-index: 0;}#sk-container-id-1 div.sk-serial {display: flex;flex-direction: column;align-items: center;background-color: white;padding-right: 0.2em;padding-left: 0.2em;position: relative;}#sk-container-id-1 div.sk-item {position: relative;z-index: 1;}#sk-container-id-1 div.sk-parallel {display: flex;align-items: stretch;justify-content: center;background-color: white;position: relative;}#sk-container-id-1 div.sk-item::before, #sk-container-id-1 div.sk-parallel-item::before {content: \"\";position: absolute;border-left: 1px solid gray;box-sizing: border-box;top: 0;bottom: 0;left: 50%;z-index: -1;}#sk-container-id-1 div.sk-parallel-item {display: flex;flex-direction: column;z-index: 1;position: relative;background-color: white;}#sk-container-id-1 div.sk-parallel-item:first-child::after {align-self: flex-end;width: 50%;}#sk-container-id-1 div.sk-parallel-item:last-child::after {align-self: flex-start;width: 50%;}#sk-container-id-1 div.sk-parallel-item:only-child::after {width: 0;}#sk-container-id-1 div.sk-dashed-wrapped {border: 1px dashed gray;margin: 0 0.4em 0.5em 0.4em;box-sizing: border-box;padding-bottom: 0.4em;background-color: white;}#sk-container-id-1 div.sk-label label {font-family: monospace;font-weight: bold;display: inline-block;line-height: 1.2em;}#sk-container-id-1 div.sk-label-container {text-align: center;}#sk-container-id-1 div.sk-container {/* jupyter's `normalize.less` sets `[hidden] { display: none; }` but bootstrap.min.css set `[hidden] { display: none !important; }` so we also need the `!important` here to be able to override the default hidden behavior on the sphinx rendered scikit-learn.org. See: https://github.com/scikit-learn/scikit-learn/issues/21755 */display: inline-block !important;position: relative;}#sk-container-id-1 div.sk-text-repr-fallback {display: none;}</style><div id=\"sk-container-id-1\" class=\"sk-top-container\"><div class=\"sk-text-repr-fallback\"><pre>TfidfVectorizer(min_df=3, ngram_range=(1, 3), smooth_idf=1,\n",
              "                stop_words=&#x27;english&#x27;, strip_accents=&#x27;unicode&#x27;, sublinear_tf=1,\n",
              "                token_pattern=&#x27;\\\\w{1,}&#x27;, use_idf=1)</pre><b>In a Jupyter environment, please rerun this cell to show the HTML representation or trust the notebook. <br />On GitHub, the HTML representation is unable to render, please try loading this page with nbviewer.org.</b></div><div class=\"sk-container\" hidden><div class=\"sk-item\"><div class=\"sk-estimator sk-toggleable\"><input class=\"sk-toggleable__control sk-hidden--visually\" id=\"sk-estimator-id-1\" type=\"checkbox\" checked><label for=\"sk-estimator-id-1\" class=\"sk-toggleable__label sk-toggleable__label-arrow\">TfidfVectorizer</label><div class=\"sk-toggleable__content\"><pre>TfidfVectorizer(min_df=3, ngram_range=(1, 3), smooth_idf=1,\n",
              "                stop_words=&#x27;english&#x27;, strip_accents=&#x27;unicode&#x27;, sublinear_tf=1,\n",
              "                token_pattern=&#x27;\\\\w{1,}&#x27;, use_idf=1)</pre></div></div></div></div></div>"
            ],
            "text/plain": [
              "TfidfVectorizer(min_df=3, ngram_range=(1, 3), smooth_idf=1,\n",
              "                stop_words='english', strip_accents='unicode', sublinear_tf=1,\n",
              "                token_pattern='\\\\w{1,}', use_idf=1)"
            ]
          },
          "execution_count": 24,
          "metadata": {},
          "output_type": "execute_result"
        }
      ],
      "source": [
        "tfidf.fit(list(x_train) + list(x_test))"
      ]
    },
    {
      "cell_type": "code",
      "execution_count": 25,
      "metadata": {
        "id": "8QQe_Drla5Ft"
      },
      "outputs": [],
      "source": [
        "x_train_tfidf =  tfidf.transform(x_train)\n",
        "x_test_tfidf = tfidf.transform(x_test)"
      ]
    },
    {
      "cell_type": "markdown",
      "metadata": {
        "id": "zNcqbS1wa5Ft"
      },
      "source": [
        "Comment either cell above or below depending on what you need to do."
      ]
    },
    {
      "cell_type": "markdown",
      "metadata": {
        "id": "u1UnmHJVa5Ft"
      },
      "source": [
        "##### **Training the SVM model**\n",
        "\n"
      ]
    },
    {
      "cell_type": "markdown",
      "metadata": {
        "id": "mLanRAIla5Ft"
      },
      "source": [
        "I learned that SVM model takes a lot of time to run. Especially with close to 90000 components, it probably won't end before at least a couple of hours. So need to reduce the number of components before I proceed."
      ]
    },
    {
      "cell_type": "markdown",
      "metadata": {
        "id": "5_qDM69Za5Fu"
      },
      "source": [
        "Reducing the number of components. (Using Singular Value Decomposition)\n",
        "\n",
        "Initially, will try reducing to 300 components. "
      ]
    },
    {
      "cell_type": "code",
      "execution_count": 26,
      "metadata": {
        "id": "sxW8Jq3xa5Fu"
      },
      "outputs": [],
      "source": [
        "# Initializing and applying SVD on the TF-IDF vectorized data to reduce the num. of components to 250.\n",
        "svd = TruncatedSVD(n_components=250)\n",
        "svd.fit(x_train_tfidf)\n",
        "x_train_svd = svd.transform(x_train_tfidf)\n",
        "x_test_svd = svd.transform(x_test_tfidf)"
      ]
    },
    {
      "cell_type": "markdown",
      "metadata": {
        "id": "ictcoydJa5Fu"
      },
      "source": [
        "Now that we have the components reduced (using SVD), since SMV is a linear model, we need to normalize the data before we try to fit the data into SVM."
      ]
    },
    {
      "cell_type": "code",
      "execution_count": 27,
      "metadata": {
        "id": "IiEMg8bsa5Fu"
      },
      "outputs": [],
      "source": [
        "# Normalizing the data using StandardScaler.\n",
        "scl = preprocessing.StandardScaler()\n",
        "scl.fit(x_train_svd)\n",
        "x_train_svd_scl = scl.transform(x_train_svd)\n",
        "x_test_svd_scl = scl.transform(x_test_svd)"
      ]
    },
    {
      "cell_type": "code",
      "execution_count": 28,
      "metadata": {
        "id": "uEn0Opx-a5Fu"
      },
      "outputs": [],
      "source": [
        "# Creating and traininng a SVC model\n",
        "svm_model = SVC(C=1.0, probability=True)\n",
        "svm_model.fit(x_train_svd_scl, y_train)\n",
        "preds = svm_model.predict(x_test_svd_scl)\n"
      ]
    },
    {
      "cell_type": "code",
      "execution_count": 33,
      "metadata": {},
      "outputs": [],
      "source": [
        "preds_train = svm_model.predict(x_train_svd_scl)\n",
        "\n"
      ]
    },
    {
      "cell_type": "code",
      "execution_count": 34,
      "metadata": {
        "colab": {
          "base_uri": "https://localhost:8080/"
        },
        "id": "otPpZANUa5Fu",
        "outputId": "b4b2c4c3-c689-42f5-b289-84489039f52b"
      },
      "outputs": [
        {
          "name": "stdout",
          "output_type": "stream",
          "text": [
            "F1 score on train set:  0.8858307393589558\n",
            "F1 score on test set:  0.8568457194587547\n"
          ]
        }
      ],
      "source": [
        "# Printing the F-1 score\n",
        "print(\"F1 score on train set: \", metrics.f1_score(y_train, preds_train, average='weighted'))\n",
        "print(\"F1 score on test set: \", metrics.f1_score(y_test, preds, average='weighted'))\n"
      ]
    },
    {
      "cell_type": "markdown",
      "metadata": {},
      "source": [
        "# USED AS FIGURE 3.2.1 IN THE REPORT FOR SVM"
      ]
    },
    {
      "cell_type": "code",
      "execution_count": 35,
      "metadata": {},
      "outputs": [
        {
          "name": "stdout",
          "output_type": "stream",
          "text": [
            "Classification report on train set: \n",
            "              precision    recall  f1-score   support\n",
            "\n",
            "           0       0.88      0.91      0.89      7038\n",
            "           1       0.91      0.94      0.93     39138\n",
            "           2       0.84      0.80      0.82      7468\n",
            "           3       0.00      0.00      0.00         3\n",
            "           4       0.85      0.81      0.83     13834\n",
            "           5       0.83      0.74      0.79      5473\n",
            "           6       0.92      0.91      0.92      7039\n",
            "\n",
            "    accuracy                           0.89     79993\n",
            "   macro avg       0.75      0.73      0.74     79993\n",
            "weighted avg       0.89      0.89      0.89     79993\n",
            "\n"
          ]
        },
        {
          "name": "stderr",
          "output_type": "stream",
          "text": [
            "/home/ankur/mambaforge-pypy3/envs/fastai/lib/python3.9/site-packages/sklearn/metrics/_classification.py:1334: UndefinedMetricWarning: Precision and F-score are ill-defined and being set to 0.0 in labels with no predicted samples. Use `zero_division` parameter to control this behavior.\n",
            "  _warn_prf(average, modifier, msg_start, len(result))\n",
            "/home/ankur/mambaforge-pypy3/envs/fastai/lib/python3.9/site-packages/sklearn/metrics/_classification.py:1334: UndefinedMetricWarning: Precision and F-score are ill-defined and being set to 0.0 in labels with no predicted samples. Use `zero_division` parameter to control this behavior.\n",
            "  _warn_prf(average, modifier, msg_start, len(result))\n",
            "/home/ankur/mambaforge-pypy3/envs/fastai/lib/python3.9/site-packages/sklearn/metrics/_classification.py:1334: UndefinedMetricWarning: Precision and F-score are ill-defined and being set to 0.0 in labels with no predicted samples. Use `zero_division` parameter to control this behavior.\n",
            "  _warn_prf(average, modifier, msg_start, len(result))\n"
          ]
        }
      ],
      "source": [
        "print(\"Classification report on train set: \")\n",
        "print(metrics.classification_report(y_train, preds_train))"
      ]
    },
    {
      "cell_type": "markdown",
      "metadata": {},
      "source": [
        "# USED AS FIGURE 3.2.2 IN THE REPORT FOR SVM"
      ]
    },
    {
      "cell_type": "code",
      "execution_count": 37,
      "metadata": {},
      "outputs": [
        {
          "data": {
            "image/png": "[encoded data removed]",
            "text/plain": [
              "<Figure size 640x480 with 2 Axes>"
            ]
          },
          "metadata": {},
          "output_type": "display_data"
        }
      ],
      "source": [
        "# Make a confusion matrix\n",
        "cm = metrics.confusion_matrix(y_train, preds_train)\n",
        "cm_display = metrics.ConfusionMatrixDisplay(cm).plot()\n",
        "plt.show()"
      ]
    },
    {
      "cell_type": "code",
      "execution_count": 30,
      "metadata": {
        "colab": {
          "base_uri": "https://localhost:8080/"
        },
        "id": "Y-ry-Eega5Fu",
        "outputId": "52faa366-7bcc-41bd-cc4b-b567b7e21c7f"
      },
      "outputs": [
        {
          "data": {
            "text/plain": [
              "(19999,)"
            ]
          },
          "execution_count": 30,
          "metadata": {},
          "output_type": "execute_result"
        }
      ],
      "source": [
        "y_train.shape\n",
        "y_test.shape"
      ]
    },
    {
      "cell_type": "code",
      "execution_count": 1,
      "metadata": {},
      "outputs": [
        {
          "ename": "NameError",
          "evalue": "name 'svm_model' is not defined",
          "output_type": "error",
          "traceback": [
            "\u001b[1;31m---------------------------------------------------------------------------\u001b[0m",
            "\u001b[1;31mNameError\u001b[0m                                 Traceback (most recent call last)",
            "\u001b[1;32m<ipython-input-1-804db7013930>\u001b[0m in \u001b[0;36m<module>\u001b[1;34m\u001b[0m\n\u001b[0;32m      2\u001b[0m \u001b[1;32mimport\u001b[0m \u001b[0mpickle\u001b[0m\u001b[1;33m\u001b[0m\u001b[1;33m\u001b[0m\u001b[0m\n\u001b[0;32m      3\u001b[0m \u001b[0mfilename\u001b[0m \u001b[1;33m=\u001b[0m \u001b[1;34m'svm_model.pkl'\u001b[0m\u001b[1;33m\u001b[0m\u001b[1;33m\u001b[0m\u001b[0m\n\u001b[1;32m----> 4\u001b[1;33m \u001b[0mpickle\u001b[0m\u001b[1;33m.\u001b[0m\u001b[0mdump\u001b[0m\u001b[1;33m(\u001b[0m\u001b[0msvm_model\u001b[0m\u001b[1;33m,\u001b[0m \u001b[0mopen\u001b[0m\u001b[1;33m(\u001b[0m\u001b[0mfilename\u001b[0m\u001b[1;33m,\u001b[0m \u001b[1;34m'wb'\u001b[0m\u001b[1;33m)\u001b[0m\u001b[1;33m)\u001b[0m\u001b[1;33m\u001b[0m\u001b[1;33m\u001b[0m\u001b[0m\n\u001b[0m",
            "\u001b[1;31mNameError\u001b[0m: name 'svm_model' is not defined"
          ]
        }
      ],
      "source": [
        "# # Load pickle model\n",
        "# import pickle\n",
        "# filename = 'svm_model.pkl'\n",
        "# pickle.dump(svm_model, open(filename, 'wb'))\n"
      ]
    },
    {
      "cell_type": "code",
      "execution_count": 31,
      "metadata": {
        "colab": {
          "base_uri": "https://localhost:8080/"
        },
        "id": "SNtwxjRaa5Fu",
        "outputId": "8c924925-5d1c-427f-9851-b0a832294ff4"
      },
      "outputs": [
        {
          "data": {
            "text/plain": [
              "(19999,)"
            ]
          },
          "execution_count": 31,
          "metadata": {},
          "output_type": "execute_result"
        }
      ],
      "source": [
        "preds.shape"
      ]
    },
    {
      "cell_type": "code",
      "execution_count": 32,
      "metadata": {
        "colab": {
          "base_uri": "https://localhost:8080/",
          "height": 279
        },
        "id": "0164PDnKa5Fv",
        "outputId": "11dcb7c1-0d64-436c-ac7e-b67ca413bd80"
      },
      "outputs": [
        {
          "data": {
            "image/png": "[encoded data removed]",
            "text/plain": [
              "<Figure size 640x480 with 1 Axes>"
            ]
          },
          "metadata": {},
          "output_type": "display_data"
        }
      ],
      "source": [
        "# Plot the predicted values against the actual values.\n",
        "# plot_actual_vs_predicted(y_test, preds)"
      ]
    },
    {
      "cell_type": "markdown",
      "metadata": {
        "id": "I5ODaqIwa5Fw"
      },
      "source": [
        "#### **Observations:**\n",
        "\n",
        "* For sample_size=10000, \n",
        "\n",
        "    * **SVM** - F1 score = 0.8347134811772894\n",
        "\n",
        "<br>\n",
        "\n",
        "Since I took 10,000 samples, which is a fraction of close to million columns of data, I re-tried the same process with 100,000 samples.\n",
        "\n",
        "* For sample_size=100,000, \n",
        "\n",
        "    * **SVM** - F1 score = 0.8550971142924789\n",
        "    \n",
        "    "
      ]
    },
    {
      "cell_type": "markdown",
      "metadata": {
        "id": "aorcWRbla5Fw"
      },
      "source": []
    }
  ],
  "metadata": {
    "colab": {
      "provenance": []
    },
    "kernelspec": {
      "display_name": "Python 3.8.5 ('base')",
      "language": "python",
      "name": "python3"
    },
    "language_info": {
      "codemirror_mode": {
        "name": "ipython",
        "version": 3
      },
      "file_extension": ".py",
      "mimetype": "text/x-python",
      "name": "python",
      "nbconvert_exporter": "python",
      "pygments_lexer": "ipython3",
      "version": "3.8.5"
    },
    "vscode": {
      "interpreter": {
        "hash": "9af26967f52218773d7bb0f1bf34c2bf9b6be081403aa8b1e9693beec522ca38"
      }
    }
  },
  "nbformat": 4,
  "nbformat_minor": 0
}
