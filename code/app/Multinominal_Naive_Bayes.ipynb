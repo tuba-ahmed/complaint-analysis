{
 "cells": [
  {
   "cell_type": "code",
   "execution_count": 1,
   "id": "b7aae47c",
   "metadata": {},
   "outputs": [],
   "source": [
    "import pandas as pd\n",
    "import numpy as np\n",
    "import matplotlib.pyplot as plt\n",
    "from sklearn.model_selection import train_test_split\n",
    "from sklearn import metrics\n",
    "from sklearn.metrics import classification_report, accuracy_score, confusion_matrix\n",
    "from sklearn.metrics import plot_confusion_matrix\n",
    "from sklearn.feature_extraction.text import TfidfVectorizer\n",
    "from sklearn.naive_bayes import MultinomialNB\n",
    "import string\n",
    "import nltk\n",
    "from nltk.corpus import stopwords\n",
    "from nltk import word_tokenize\n",
    "from nltk.stem.wordnet import WordNetLemmatizer"
   ]
  },
  {
   "cell_type": "code",
   "execution_count": 2,
   "id": "33fa1e39",
   "metadata": {},
   "outputs": [],
   "source": [
    "#Read new processed complaint data set.\n",
    "ndf = pd.read_csv('processed_complaints.csv')"
   ]
  },
  {
   "cell_type": "code",
   "execution_count": 3,
   "id": "f9b31aaf",
   "metadata": {},
   "outputs": [
    {
     "data": {
      "text/html": [
       "<div>\n",
       "<style scoped>\n",
       "    .dataframe tbody tr th:only-of-type {\n",
       "        vertical-align: middle;\n",
       "    }\n",
       "\n",
       "    .dataframe tbody tr th {\n",
       "        vertical-align: top;\n",
       "    }\n",
       "\n",
       "    .dataframe thead th {\n",
       "        text-align: right;\n",
       "    }\n",
       "</style>\n",
       "<table border=\"1\" class=\"dataframe\">\n",
       "  <thead>\n",
       "    <tr style=\"text-align: right;\">\n",
       "      <th></th>\n",
       "      <th>Unnamed: 0</th>\n",
       "      <th>Product</th>\n",
       "      <th>Complaint</th>\n",
       "    </tr>\n",
       "  </thead>\n",
       "  <tbody>\n",
       "    <tr>\n",
       "      <th>0</th>\n",
       "      <td>38</td>\n",
       "      <td>Debt Collection</td>\n",
       "      <td>owe money never received bill indicating balan...</td>\n",
       "    </tr>\n",
       "    <tr>\n",
       "      <th>1</th>\n",
       "      <td>39</td>\n",
       "      <td>Debt Collection</td>\n",
       "      <td>attempting collect fund valuation service prov...</td>\n",
       "    </tr>\n",
       "    <tr>\n",
       "      <th>2</th>\n",
       "      <td>41</td>\n",
       "      <td>Credit Reporting and Services</td>\n",
       "      <td>experian didnt consent inquiry also name incor...</td>\n",
       "    </tr>\n",
       "    <tr>\n",
       "      <th>3</th>\n",
       "      <td>68</td>\n",
       "      <td>Banking Services</td>\n",
       "      <td>citibank froze account contained time make col...</td>\n",
       "    </tr>\n",
       "    <tr>\n",
       "      <th>4</th>\n",
       "      <td>129</td>\n",
       "      <td>Credit Reporting and Services</td>\n",
       "      <td>accordance fair credit reporting act account v...</td>\n",
       "    </tr>\n",
       "    <tr>\n",
       "      <th>...</th>\n",
       "      <td>...</td>\n",
       "      <td>...</td>\n",
       "      <td>...</td>\n",
       "    </tr>\n",
       "    <tr>\n",
       "      <th>1112415</th>\n",
       "      <td>3096750</td>\n",
       "      <td>Credit/Prepaid Cards</td>\n",
       "      <td>automated call capital one call home phone exc...</td>\n",
       "    </tr>\n",
       "    <tr>\n",
       "      <th>1112416</th>\n",
       "      <td>3096751</td>\n",
       "      <td>Debt Collection</td>\n",
       "      <td>disputed debt several time resolution submitte...</td>\n",
       "    </tr>\n",
       "    <tr>\n",
       "      <th>1112417</th>\n",
       "      <td>3096752</td>\n",
       "      <td>Mortgages</td>\n",
       "      <td>father died left son belonging also single mot...</td>\n",
       "    </tr>\n",
       "    <tr>\n",
       "      <th>1112418</th>\n",
       "      <td>3096753</td>\n",
       "      <td>Credit Reporting and Services</td>\n",
       "      <td>cfbp would like file complaint experian report...</td>\n",
       "    </tr>\n",
       "    <tr>\n",
       "      <th>1112419</th>\n",
       "      <td>3096754</td>\n",
       "      <td>Credit Reporting and Services</td>\n",
       "      <td>husband middle fha short sale property located...</td>\n",
       "    </tr>\n",
       "  </tbody>\n",
       "</table>\n",
       "<p>1112420 rows × 3 columns</p>\n",
       "</div>"
      ],
      "text/plain": [
       "         Unnamed: 0                        Product  \\\n",
       "0                38                Debt Collection   \n",
       "1                39                Debt Collection   \n",
       "2                41  Credit Reporting and Services   \n",
       "3                68               Banking Services   \n",
       "4               129  Credit Reporting and Services   \n",
       "...             ...                            ...   \n",
       "1112415     3096750           Credit/Prepaid Cards   \n",
       "1112416     3096751                Debt Collection   \n",
       "1112417     3096752                      Mortgages   \n",
       "1112418     3096753  Credit Reporting and Services   \n",
       "1112419     3096754  Credit Reporting and Services   \n",
       "\n",
       "                                                 Complaint  \n",
       "0        owe money never received bill indicating balan...  \n",
       "1        attempting collect fund valuation service prov...  \n",
       "2        experian didnt consent inquiry also name incor...  \n",
       "3        citibank froze account contained time make col...  \n",
       "4        accordance fair credit reporting act account v...  \n",
       "...                                                    ...  \n",
       "1112415  automated call capital one call home phone exc...  \n",
       "1112416  disputed debt several time resolution submitte...  \n",
       "1112417  father died left son belonging also single mot...  \n",
       "1112418  cfbp would like file complaint experian report...  \n",
       "1112419  husband middle fha short sale property located...  \n",
       "\n",
       "[1112420 rows x 3 columns]"
      ]
     },
     "execution_count": 3,
     "metadata": {},
     "output_type": "execute_result"
    }
   ],
   "source": [
    "#Examining dataframe.\n",
    "ndf"
   ]
  },
  {
   "cell_type": "code",
   "execution_count": 4,
   "id": "610c71d8",
   "metadata": {},
   "outputs": [],
   "source": [
    "#Eliminate 'Unnamed:0' column.\n",
    "ndf.drop(['Unnamed: 0'], axis=1, inplace=True)"
   ]
  },
  {
   "cell_type": "code",
   "execution_count": 5,
   "id": "766d4e19",
   "metadata": {},
   "outputs": [
    {
     "data": {
      "text/html": [
       "<div>\n",
       "<style scoped>\n",
       "    .dataframe tbody tr th:only-of-type {\n",
       "        vertical-align: middle;\n",
       "    }\n",
       "\n",
       "    .dataframe tbody tr th {\n",
       "        vertical-align: top;\n",
       "    }\n",
       "\n",
       "    .dataframe thead th {\n",
       "        text-align: right;\n",
       "    }\n",
       "</style>\n",
       "<table border=\"1\" class=\"dataframe\">\n",
       "  <thead>\n",
       "    <tr style=\"text-align: right;\">\n",
       "      <th></th>\n",
       "      <th>Product</th>\n",
       "      <th>Complaint</th>\n",
       "    </tr>\n",
       "  </thead>\n",
       "  <tbody>\n",
       "    <tr>\n",
       "      <th>0</th>\n",
       "      <td>Debt Collection</td>\n",
       "      <td>owe money never received bill indicating balan...</td>\n",
       "    </tr>\n",
       "    <tr>\n",
       "      <th>1</th>\n",
       "      <td>Debt Collection</td>\n",
       "      <td>attempting collect fund valuation service prov...</td>\n",
       "    </tr>\n",
       "    <tr>\n",
       "      <th>2</th>\n",
       "      <td>Credit Reporting and Services</td>\n",
       "      <td>experian didnt consent inquiry also name incor...</td>\n",
       "    </tr>\n",
       "    <tr>\n",
       "      <th>3</th>\n",
       "      <td>Banking Services</td>\n",
       "      <td>citibank froze account contained time make col...</td>\n",
       "    </tr>\n",
       "    <tr>\n",
       "      <th>4</th>\n",
       "      <td>Credit Reporting and Services</td>\n",
       "      <td>accordance fair credit reporting act account v...</td>\n",
       "    </tr>\n",
       "    <tr>\n",
       "      <th>...</th>\n",
       "      <td>...</td>\n",
       "      <td>...</td>\n",
       "    </tr>\n",
       "    <tr>\n",
       "      <th>1112415</th>\n",
       "      <td>Credit/Prepaid Cards</td>\n",
       "      <td>automated call capital one call home phone exc...</td>\n",
       "    </tr>\n",
       "    <tr>\n",
       "      <th>1112416</th>\n",
       "      <td>Debt Collection</td>\n",
       "      <td>disputed debt several time resolution submitte...</td>\n",
       "    </tr>\n",
       "    <tr>\n",
       "      <th>1112417</th>\n",
       "      <td>Mortgages</td>\n",
       "      <td>father died left son belonging also single mot...</td>\n",
       "    </tr>\n",
       "    <tr>\n",
       "      <th>1112418</th>\n",
       "      <td>Credit Reporting and Services</td>\n",
       "      <td>cfbp would like file complaint experian report...</td>\n",
       "    </tr>\n",
       "    <tr>\n",
       "      <th>1112419</th>\n",
       "      <td>Credit Reporting and Services</td>\n",
       "      <td>husband middle fha short sale property located...</td>\n",
       "    </tr>\n",
       "  </tbody>\n",
       "</table>\n",
       "<p>1112420 rows × 2 columns</p>\n",
       "</div>"
      ],
      "text/plain": [
       "                               Product  \\\n",
       "0                      Debt Collection   \n",
       "1                      Debt Collection   \n",
       "2        Credit Reporting and Services   \n",
       "3                     Banking Services   \n",
       "4        Credit Reporting and Services   \n",
       "...                                ...   \n",
       "1112415           Credit/Prepaid Cards   \n",
       "1112416                Debt Collection   \n",
       "1112417                      Mortgages   \n",
       "1112418  Credit Reporting and Services   \n",
       "1112419  Credit Reporting and Services   \n",
       "\n",
       "                                                 Complaint  \n",
       "0        owe money never received bill indicating balan...  \n",
       "1        attempting collect fund valuation service prov...  \n",
       "2        experian didnt consent inquiry also name incor...  \n",
       "3        citibank froze account contained time make col...  \n",
       "4        accordance fair credit reporting act account v...  \n",
       "...                                                    ...  \n",
       "1112415  automated call capital one call home phone exc...  \n",
       "1112416  disputed debt several time resolution submitte...  \n",
       "1112417  father died left son belonging also single mot...  \n",
       "1112418  cfbp would like file complaint experian report...  \n",
       "1112419  husband middle fha short sale property located...  \n",
       "\n",
       "[1112420 rows x 2 columns]"
      ]
     },
     "execution_count": 5,
     "metadata": {},
     "output_type": "execute_result"
    }
   ],
   "source": [
    "ndf"
   ]
  },
  {
   "cell_type": "code",
   "execution_count": 6,
   "id": "58223298",
   "metadata": {},
   "outputs": [
    {
     "data": {
      "text/plain": [
       "81"
      ]
     },
     "execution_count": 6,
     "metadata": {},
     "output_type": "execute_result"
    }
   ],
   "source": [
    "#Check how many null values are in the Complaint column.\n",
    "ndf['Complaint'].isnull().sum()"
   ]
  },
  {
   "cell_type": "code",
   "execution_count": 7,
   "id": "ea281d1d",
   "metadata": {},
   "outputs": [],
   "source": [
    "#Eliminate all null values.\n",
    "ndf = ndf.dropna()"
   ]
  },
  {
   "cell_type": "code",
   "execution_count": 8,
   "id": "08f4e4f9",
   "metadata": {},
   "outputs": [
    {
     "data": {
      "text/plain": [
       "0"
      ]
     },
     "execution_count": 8,
     "metadata": {},
     "output_type": "execute_result"
    }
   ],
   "source": [
    "ndf['Complaint'].isnull().sum()"
   ]
  },
  {
   "cell_type": "code",
   "execution_count": 9,
   "id": "f504393b",
   "metadata": {},
   "outputs": [
    {
     "data": {
      "text/plain": [
       "(1112339, 2)"
      ]
     },
     "execution_count": 9,
     "metadata": {},
     "output_type": "execute_result"
    }
   ],
   "source": [
    "ndf.shape"
   ]
  },
  {
   "cell_type": "markdown",
   "id": "645b3cdf",
   "metadata": {},
   "source": [
    "# Encoding Product feature."
   ]
  },
  {
   "cell_type": "code",
   "execution_count": 10,
   "id": "c2a44767",
   "metadata": {},
   "outputs": [
    {
     "data": {
      "text/plain": [
       "array(['Debt Collection', 'Credit Reporting and Services',\n",
       "       'Banking Services', 'Mortgages', 'Credit/Prepaid Cards', 'Loans',\n",
       "       'Crypto Currency'], dtype=object)"
      ]
     },
     "execution_count": 10,
     "metadata": {},
     "output_type": "execute_result"
    }
   ],
   "source": [
    "#View list of products in Product feature.\n",
    "ndf['Product'].unique()"
   ]
  },
  {
   "cell_type": "code",
   "execution_count": 11,
   "id": "f22f9024",
   "metadata": {},
   "outputs": [
    {
     "name": "stderr",
     "output_type": "stream",
     "text": [
      "/var/folders/3n/y6l_g9s960lc_759jvhdhxp40000gn/T/ipykernel_12603/2326779837.py:2: SettingWithCopyWarning: \n",
      "A value is trying to be set on a copy of a slice from a DataFrame\n",
      "\n",
      "See the caveats in the documentation: https://pandas.pydata.org/pandas-docs/stable/user_guide/indexing.html#returning-a-view-versus-a-copy\n",
      "  ndf['Product'].replace({'Debt Collection' : 0,\n"
     ]
    }
   ],
   "source": [
    "#Encode products in numeric values.\n",
    "ndf['Product'].replace({'Debt Collection' : 0, \n",
    "                        'Credit Reporting and Services' : 1,\n",
    "                        'Banking Services' : 2,\n",
    "                        'Mortgages' : 3,\n",
    "                        'Credit/Prepaid Cards' : 4,\n",
    "                        'Loans' : 5,\n",
    "                        'Crypto Currency' : 6}, inplace=True)"
   ]
  },
  {
   "cell_type": "code",
   "execution_count": 12,
   "id": "3a8bf7e6",
   "metadata": {},
   "outputs": [
    {
     "data": {
      "text/html": [
       "<div>\n",
       "<style scoped>\n",
       "    .dataframe tbody tr th:only-of-type {\n",
       "        vertical-align: middle;\n",
       "    }\n",
       "\n",
       "    .dataframe tbody tr th {\n",
       "        vertical-align: top;\n",
       "    }\n",
       "\n",
       "    .dataframe thead th {\n",
       "        text-align: right;\n",
       "    }\n",
       "</style>\n",
       "<table border=\"1\" class=\"dataframe\">\n",
       "  <thead>\n",
       "    <tr style=\"text-align: right;\">\n",
       "      <th></th>\n",
       "      <th>Product</th>\n",
       "      <th>Complaint</th>\n",
       "    </tr>\n",
       "  </thead>\n",
       "  <tbody>\n",
       "    <tr>\n",
       "      <th>0</th>\n",
       "      <td>0</td>\n",
       "      <td>owe money never received bill indicating balan...</td>\n",
       "    </tr>\n",
       "    <tr>\n",
       "      <th>1</th>\n",
       "      <td>0</td>\n",
       "      <td>attempting collect fund valuation service prov...</td>\n",
       "    </tr>\n",
       "    <tr>\n",
       "      <th>2</th>\n",
       "      <td>1</td>\n",
       "      <td>experian didnt consent inquiry also name incor...</td>\n",
       "    </tr>\n",
       "    <tr>\n",
       "      <th>3</th>\n",
       "      <td>2</td>\n",
       "      <td>citibank froze account contained time make col...</td>\n",
       "    </tr>\n",
       "    <tr>\n",
       "      <th>4</th>\n",
       "      <td>1</td>\n",
       "      <td>accordance fair credit reporting act account v...</td>\n",
       "    </tr>\n",
       "    <tr>\n",
       "      <th>...</th>\n",
       "      <td>...</td>\n",
       "      <td>...</td>\n",
       "    </tr>\n",
       "    <tr>\n",
       "      <th>1112415</th>\n",
       "      <td>4</td>\n",
       "      <td>automated call capital one call home phone exc...</td>\n",
       "    </tr>\n",
       "    <tr>\n",
       "      <th>1112416</th>\n",
       "      <td>0</td>\n",
       "      <td>disputed debt several time resolution submitte...</td>\n",
       "    </tr>\n",
       "    <tr>\n",
       "      <th>1112417</th>\n",
       "      <td>3</td>\n",
       "      <td>father died left son belonging also single mot...</td>\n",
       "    </tr>\n",
       "    <tr>\n",
       "      <th>1112418</th>\n",
       "      <td>1</td>\n",
       "      <td>cfbp would like file complaint experian report...</td>\n",
       "    </tr>\n",
       "    <tr>\n",
       "      <th>1112419</th>\n",
       "      <td>1</td>\n",
       "      <td>husband middle fha short sale property located...</td>\n",
       "    </tr>\n",
       "  </tbody>\n",
       "</table>\n",
       "<p>1112339 rows × 2 columns</p>\n",
       "</div>"
      ],
      "text/plain": [
       "         Product                                          Complaint\n",
       "0              0  owe money never received bill indicating balan...\n",
       "1              0  attempting collect fund valuation service prov...\n",
       "2              1  experian didnt consent inquiry also name incor...\n",
       "3              2  citibank froze account contained time make col...\n",
       "4              1  accordance fair credit reporting act account v...\n",
       "...          ...                                                ...\n",
       "1112415        4  automated call capital one call home phone exc...\n",
       "1112416        0  disputed debt several time resolution submitte...\n",
       "1112417        3  father died left son belonging also single mot...\n",
       "1112418        1  cfbp would like file complaint experian report...\n",
       "1112419        1  husband middle fha short sale property located...\n",
       "\n",
       "[1112339 rows x 2 columns]"
      ]
     },
     "execution_count": 12,
     "metadata": {},
     "output_type": "execute_result"
    }
   ],
   "source": [
    "ndf"
   ]
  },
  {
   "cell_type": "markdown",
   "id": "ebfa0e5a",
   "metadata": {},
   "source": [
    "# Generate training and test set."
   ]
  },
  {
   "cell_type": "code",
   "execution_count": 13,
   "id": "e6e87b3c",
   "metadata": {},
   "outputs": [],
   "source": [
    "#Create train and test sets.\n",
    "x = ndf['Complaint']\n",
    "y = ndf['Product']"
   ]
  },
  {
   "cell_type": "code",
   "execution_count": 14,
   "id": "16d1cb53",
   "metadata": {},
   "outputs": [],
   "source": [
    "x_train, x_test, y_train, y_test = train_test_split(x, y, test_size=0.2, random_state=100)"
   ]
  },
  {
   "cell_type": "code",
   "execution_count": 15,
   "id": "810e33e3",
   "metadata": {},
   "outputs": [
    {
     "name": "stdout",
     "output_type": "stream",
     "text": [
      "Training set size: (889871,)\n",
      "Test set size: (222468,)\n"
     ]
    }
   ],
   "source": [
    "print(\"Training set size:\" , x_train.shape)\n",
    "print(\"Test set size:\" , x_test.shape)"
   ]
  },
  {
   "cell_type": "markdown",
   "id": "2efbcece",
   "metadata": {},
   "source": [
    "# Obtaining relevance of words from complaint narratives."
   ]
  },
  {
   "cell_type": "code",
   "execution_count": 16,
   "id": "6651a158",
   "metadata": {},
   "outputs": [],
   "source": [
    "tfidf = TfidfVectorizer(ngram_range=(1,2), max_features=1000000)\n",
    "tfidf_x_train = tfidf.fit_transform(x_train)\n",
    "tfidf_x_test = tfidf.transform(x_test)"
   ]
  },
  {
   "cell_type": "code",
   "execution_count": null,
   "id": "662ec502",
   "metadata": {},
   "outputs": [],
   "source": []
  }
 ],
 "metadata": {
  "kernelspec": {
   "display_name": "Python 3 (ipykernel)",
   "language": "python",
   "name": "python3"
  },
  "language_info": {
   "codemirror_mode": {
    "name": "ipython",
    "version": 3
   },
   "file_extension": ".py",
   "mimetype": "text/x-python",
   "name": "python",
   "nbconvert_exporter": "python",
   "pygments_lexer": "ipython3",
   "version": "3.9.12"
  }
 },
 "nbformat": 4,
 "nbformat_minor": 5
}
