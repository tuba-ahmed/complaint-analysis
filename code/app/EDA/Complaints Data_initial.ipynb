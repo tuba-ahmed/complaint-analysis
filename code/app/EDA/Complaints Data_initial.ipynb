{
 "cells": [
  {
   "cell_type": "code",
   "execution_count": 1,
   "metadata": {},
   "outputs": [],
   "source": [
    "import pandas as pd\n",
    "import seaborn as sb\n",
    "import matplotlib.pyplot as plt\n"
   ]
  },
  {
   "cell_type": "code",
   "execution_count": 3,
   "metadata": {},
   "outputs": [
    {
     "name": "stderr",
     "output_type": "stream",
     "text": [
      "/var/folders/3n/y6l_g9s960lc_759jvhdhxp40000gn/T/ipykernel_99912/1533116171.py:2: DtypeWarning: Columns (9,16) have mixed types. Specify dtype option on import or set low_memory=False.\n",
      "  df = pd.read_csv(\"complaints.csv\")\n"
     ]
    }
   ],
   "source": [
    "# Loading the dataset\n",
    "df = pd.read_csv(\"complaints.csv\")"
   ]
  },
  {
   "cell_type": "markdown",
   "metadata": {},
   "source": [
    "### Initial Investigation for the dataset that we have selected. \n",
    "\n",
    "First, we are trying to figure out the structure of the data. Seeing how the dataset looks like and what attributes it has. \n",
    "Just by looking at the attributes and our end goal, we can determine which of these attributes we can actually use (be beneficial to us)"
   ]
  },
  {
   "cell_type": "code",
   "execution_count": 4,
   "metadata": {},
   "outputs": [
    {
     "data": {
      "text/plain": [
       "(3041367, 18)"
      ]
     },
     "execution_count": 4,
     "metadata": {},
     "output_type": "execute_result"
    }
   ],
   "source": [
    "df.shape"
   ]
  },
  {
   "cell_type": "code",
   "execution_count": 5,
   "metadata": {},
   "outputs": [
    {
     "name": "stdout",
     "output_type": "stream",
     "text": [
      "<class 'pandas.core.frame.DataFrame'>\n",
      "RangeIndex: 3041367 entries, 0 to 3041366\n",
      "Data columns (total 18 columns):\n",
      " #   Column                        Dtype \n",
      "---  ------                        ----- \n",
      " 0   Date received                 object\n",
      " 1   Product                       object\n",
      " 2   Sub-product                   object\n",
      " 3   Issue                         object\n",
      " 4   Sub-issue                     object\n",
      " 5   Consumer complaint narrative  object\n",
      " 6   Company public response       object\n",
      " 7   Company                       object\n",
      " 8   State                         object\n",
      " 9   ZIP code                      object\n",
      " 10  Tags                          object\n",
      " 11  Consumer consent provided?    object\n",
      " 12  Submitted via                 object\n",
      " 13  Date sent to company          object\n",
      " 14  Company response to consumer  object\n",
      " 15  Timely response?              object\n",
      " 16  Consumer disputed?            object\n",
      " 17  Complaint ID                  int64 \n",
      "dtypes: int64(1), object(17)\n",
      "memory usage: 417.7+ MB\n"
     ]
    },
    {
     "data": {
      "text/html": [
       "<div>\n",
       "<style scoped>\n",
       "    .dataframe tbody tr th:only-of-type {\n",
       "        vertical-align: middle;\n",
       "    }\n",
       "\n",
       "    .dataframe tbody tr th {\n",
       "        vertical-align: top;\n",
       "    }\n",
       "\n",
       "    .dataframe thead th {\n",
       "        text-align: right;\n",
       "    }\n",
       "</style>\n",
       "<table border=\"1\" class=\"dataframe\">\n",
       "  <thead>\n",
       "    <tr style=\"text-align: right;\">\n",
       "      <th></th>\n",
       "      <th>Date received</th>\n",
       "      <th>Product</th>\n",
       "      <th>Sub-product</th>\n",
       "      <th>Issue</th>\n",
       "      <th>Sub-issue</th>\n",
       "      <th>Consumer complaint narrative</th>\n",
       "      <th>Company public response</th>\n",
       "      <th>Company</th>\n",
       "      <th>State</th>\n",
       "      <th>ZIP code</th>\n",
       "      <th>Tags</th>\n",
       "      <th>Consumer consent provided?</th>\n",
       "      <th>Submitted via</th>\n",
       "      <th>Date sent to company</th>\n",
       "      <th>Company response to consumer</th>\n",
       "      <th>Timely response?</th>\n",
       "      <th>Consumer disputed?</th>\n",
       "      <th>Complaint ID</th>\n",
       "    </tr>\n",
       "  </thead>\n",
       "  <tbody>\n",
       "    <tr>\n",
       "      <th>0</th>\n",
       "      <td>2022-10-29</td>\n",
       "      <td>Mortgage</td>\n",
       "      <td>Conventional home mortgage</td>\n",
       "      <td>Trouble during payment process</td>\n",
       "      <td>NaN</td>\n",
       "      <td>NaN</td>\n",
       "      <td>Company has responded to the consumer and the ...</td>\n",
       "      <td>Freedom Mortgage Company</td>\n",
       "      <td>CA</td>\n",
       "      <td>90806.0</td>\n",
       "      <td>Older American, Servicemember</td>\n",
       "      <td>NaN</td>\n",
       "      <td>Postal mail</td>\n",
       "      <td>2022-10-29</td>\n",
       "      <td>Closed with explanation</td>\n",
       "      <td>Yes</td>\n",
       "      <td>NaN</td>\n",
       "      <td>6142344</td>\n",
       "    </tr>\n",
       "    <tr>\n",
       "      <th>1</th>\n",
       "      <td>2022-10-18</td>\n",
       "      <td>Credit reporting, credit repair services, or o...</td>\n",
       "      <td>Credit reporting</td>\n",
       "      <td>Improper use of your report</td>\n",
       "      <td>Reporting company used your report improperly</td>\n",
       "      <td>NaN</td>\n",
       "      <td>NaN</td>\n",
       "      <td>AMERICAN EXPRESS COMPANY</td>\n",
       "      <td>GA</td>\n",
       "      <td>30294.0</td>\n",
       "      <td>NaN</td>\n",
       "      <td>NaN</td>\n",
       "      <td>Web</td>\n",
       "      <td>2022-10-18</td>\n",
       "      <td>Closed with non-monetary relief</td>\n",
       "      <td>Yes</td>\n",
       "      <td>NaN</td>\n",
       "      <td>6100149</td>\n",
       "    </tr>\n",
       "    <tr>\n",
       "      <th>2</th>\n",
       "      <td>2022-10-22</td>\n",
       "      <td>Credit reporting, credit repair services, or o...</td>\n",
       "      <td>Credit reporting</td>\n",
       "      <td>Incorrect information on your report</td>\n",
       "      <td>Information belongs to someone else</td>\n",
       "      <td>NaN</td>\n",
       "      <td>NaN</td>\n",
       "      <td>Experian Information Solutions Inc.</td>\n",
       "      <td>TX</td>\n",
       "      <td>76180.0</td>\n",
       "      <td>NaN</td>\n",
       "      <td>NaN</td>\n",
       "      <td>Web</td>\n",
       "      <td>2022-10-22</td>\n",
       "      <td>In progress</td>\n",
       "      <td>Yes</td>\n",
       "      <td>NaN</td>\n",
       "      <td>6117096</td>\n",
       "    </tr>\n",
       "    <tr>\n",
       "      <th>3</th>\n",
       "      <td>2022-10-15</td>\n",
       "      <td>Credit reporting, credit repair services, or o...</td>\n",
       "      <td>Credit reporting</td>\n",
       "      <td>Improper use of your report</td>\n",
       "      <td>Reporting company used your report improperly</td>\n",
       "      <td>NaN</td>\n",
       "      <td>NaN</td>\n",
       "      <td>Frontline Asset Strategies, LLC</td>\n",
       "      <td>TX</td>\n",
       "      <td>77379.0</td>\n",
       "      <td>NaN</td>\n",
       "      <td>NaN</td>\n",
       "      <td>Web</td>\n",
       "      <td>2022-10-15</td>\n",
       "      <td>Closed with explanation</td>\n",
       "      <td>Yes</td>\n",
       "      <td>NaN</td>\n",
       "      <td>6089209</td>\n",
       "    </tr>\n",
       "    <tr>\n",
       "      <th>4</th>\n",
       "      <td>2022-10-21</td>\n",
       "      <td>Credit reporting, credit repair services, or o...</td>\n",
       "      <td>Credit reporting</td>\n",
       "      <td>Incorrect information on your report</td>\n",
       "      <td>Personal information incorrect</td>\n",
       "      <td>NaN</td>\n",
       "      <td>Company has responded to the consumer and the ...</td>\n",
       "      <td>Experian Information Solutions Inc.</td>\n",
       "      <td>NY</td>\n",
       "      <td>11738.0</td>\n",
       "      <td>NaN</td>\n",
       "      <td>Consent not provided</td>\n",
       "      <td>Web</td>\n",
       "      <td>2022-10-21</td>\n",
       "      <td>Closed with non-monetary relief</td>\n",
       "      <td>Yes</td>\n",
       "      <td>NaN</td>\n",
       "      <td>6114465</td>\n",
       "    </tr>\n",
       "  </tbody>\n",
       "</table>\n",
       "</div>"
      ],
      "text/plain": [
       "  Date received                                            Product  \\\n",
       "0    2022-10-29                                           Mortgage   \n",
       "1    2022-10-18  Credit reporting, credit repair services, or o...   \n",
       "2    2022-10-22  Credit reporting, credit repair services, or o...   \n",
       "3    2022-10-15  Credit reporting, credit repair services, or o...   \n",
       "4    2022-10-21  Credit reporting, credit repair services, or o...   \n",
       "\n",
       "                  Sub-product                                 Issue  \\\n",
       "0  Conventional home mortgage        Trouble during payment process   \n",
       "1            Credit reporting           Improper use of your report   \n",
       "2            Credit reporting  Incorrect information on your report   \n",
       "3            Credit reporting           Improper use of your report   \n",
       "4            Credit reporting  Incorrect information on your report   \n",
       "\n",
       "                                       Sub-issue Consumer complaint narrative  \\\n",
       "0                                            NaN                          NaN   \n",
       "1  Reporting company used your report improperly                          NaN   \n",
       "2            Information belongs to someone else                          NaN   \n",
       "3  Reporting company used your report improperly                          NaN   \n",
       "4                 Personal information incorrect                          NaN   \n",
       "\n",
       "                             Company public response  \\\n",
       "0  Company has responded to the consumer and the ...   \n",
       "1                                                NaN   \n",
       "2                                                NaN   \n",
       "3                                                NaN   \n",
       "4  Company has responded to the consumer and the ...   \n",
       "\n",
       "                               Company State ZIP code  \\\n",
       "0             Freedom Mortgage Company    CA  90806.0   \n",
       "1             AMERICAN EXPRESS COMPANY    GA  30294.0   \n",
       "2  Experian Information Solutions Inc.    TX  76180.0   \n",
       "3      Frontline Asset Strategies, LLC    TX  77379.0   \n",
       "4  Experian Information Solutions Inc.    NY  11738.0   \n",
       "\n",
       "                            Tags Consumer consent provided? Submitted via  \\\n",
       "0  Older American, Servicemember                        NaN   Postal mail   \n",
       "1                            NaN                        NaN           Web   \n",
       "2                            NaN                        NaN           Web   \n",
       "3                            NaN                        NaN           Web   \n",
       "4                            NaN       Consent not provided           Web   \n",
       "\n",
       "  Date sent to company     Company response to consumer Timely response?  \\\n",
       "0           2022-10-29          Closed with explanation              Yes   \n",
       "1           2022-10-18  Closed with non-monetary relief              Yes   \n",
       "2           2022-10-22                      In progress              Yes   \n",
       "3           2022-10-15          Closed with explanation              Yes   \n",
       "4           2022-10-21  Closed with non-monetary relief              Yes   \n",
       "\n",
       "  Consumer disputed?  Complaint ID  \n",
       "0                NaN       6142344  \n",
       "1                NaN       6100149  \n",
       "2                NaN       6117096  \n",
       "3                NaN       6089209  \n",
       "4                NaN       6114465  "
      ]
     },
     "execution_count": 5,
     "metadata": {},
     "output_type": "execute_result"
    }
   ],
   "source": [
    "df.info()\n",
    "df.head()"
   ]
  },
  {
   "cell_type": "markdown",
   "metadata": {},
   "source": [
    "Here, we try to determine the unique values and null values to determine if the dataset has enough representative data for our goal"
   ]
  },
  {
   "cell_type": "code",
   "execution_count": 6,
   "metadata": {},
   "outputs": [
    {
     "name": "stdout",
     "output_type": "stream",
     "text": [
      "Col: Date received ; Num. unique : 3987 ; Num. NaN : 0\n",
      "Col: Product ; Num. unique : 18 ; Num. NaN : 0\n",
      "Col: Sub-product ; Num. unique : 76 ; Num. NaN : 235294\n",
      "Col: Issue ; Num. unique : 165 ; Num. NaN : 0\n",
      "Col: Sub-issue ; Num. unique : 221 ; Num. NaN : 680512\n",
      "Col: Consumer complaint narrative ; Num. unique : 954855 ; Num. NaN : 1949880\n",
      "Col: Company public response ; Num. unique : 11 ; Num. NaN : 1722836\n",
      "Col: Company ; Num. unique : 6546 ; Num. NaN : 0\n",
      "Col: State ; Num. unique : 63 ; Num. NaN : 39969\n",
      "Col: ZIP code ; Num. unique : 60216 ; Num. NaN : 40376\n",
      "Col: Tags ; Num. unique : 3 ; Num. NaN : 2694899\n",
      "Col: Consumer consent provided? ; Num. unique : 4 ; Num. NaN : 811322\n",
      "Col: Submitted via ; Num. unique : 7 ; Num. NaN : 0\n",
      "Col: Date sent to company ; Num. unique : 3936 ; Num. NaN : 0\n",
      "Col: Company response to consumer ; Num. unique : 8 ; Num. NaN : 4\n",
      "Col: Timely response? ; Num. unique : 2 ; Num. NaN : 0\n",
      "Col: Consumer disputed? ; Num. unique : 2 ; Num. NaN : 2272921\n"
     ]
    }
   ],
   "source": [
    "# Printing the counts of each column (unique and null vals.)\n",
    "for col in df.select_dtypes(['object']).columns:\n",
    "    print('Col:', col,'; Num. unique :',df[col].nunique(),'; Num. NaN :',df[col].isna().sum())"
   ]
  },
  {
   "cell_type": "code",
   "execution_count": 29,
   "metadata": {},
   "outputs": [
    {
     "data": {
      "text/plain": [
       "Credit reporting, credit repair services, or other personal consumer reports    1384104\n",
       "Debt collection                                                                  449194\n",
       "Mortgage                                                                         363922\n",
       "Credit card or prepaid card                                                      162683\n",
       "Credit reporting                                                                 140430\n",
       "Checking or savings account                                                      139347\n",
       "Credit card                                                                       89190\n",
       "Bank account or service                                                           86206\n",
       "Student loan                                                                      70781\n",
       "Money transfer, virtual currency, or money service                                46736\n",
       "Vehicle loan or lease                                                             36543\n",
       "Consumer Loan                                                                     31598\n",
       "Payday loan, title loan, or personal loan                                         24841\n",
       "Payday loan                                                                        5543\n",
       "Money transfers                                                                    5354\n",
       "Prepaid card                                                                       3819\n",
       "Other financial service                                                            1058\n",
       "Virtual currency                                                                     18\n",
       "Name: Product, dtype: int64"
      ]
     },
     "execution_count": 29,
     "metadata": {},
     "output_type": "execute_result"
    }
   ],
   "source": [
    "df[\"Product\"].value_counts()"
   ]
  },
  {
   "cell_type": "markdown",
   "metadata": {},
   "source": [
    "Similar to above, we try to see if the type of complaints are not saturated around one few types of products. This graph shows us that the complaints, although mostly around Credit reporting, credit repair services and other personal consumer reports, are decent enough to be representative of complaints."
   ]
  },
  {
   "cell_type": "code",
   "execution_count": 30,
   "metadata": {},
   "outputs": [
    {
     "data": {
      "image/png": "[encoded data removed]",
      "text/plain": [
       "<Figure size 432x288 with 1 Axes>"
      ]
     },
     "metadata": {
      "needs_background": "light"
     },
     "output_type": "display_data"
    }
   ],
   "source": [
    "# Plotting the countplot for the product determining the categeory and their counts\n",
    "sb.countplot(data=df, y = \"Product\")\n",
    "plt.show()"
   ]
  },
  {
   "cell_type": "code",
   "execution_count": 59,
   "metadata": {},
   "outputs": [
    {
     "data": {
      "image/png": "[encoded data removed]",
      "text/plain": [
       "<Figure size 1080x1440 with 1 Axes>"
      ]
     },
     "metadata": {
      "needs_background": "light"
     },
     "output_type": "display_data"
    }
   ],
   "source": [
    "# Plotting the countplot for Submitted via\n",
    "plt.figure(figsize=(15,20))\n",
    "ax = sb.countplot(data=df, y = \"State\")\n",
    "#plt.figure(figsize=(15,20))\n",
    "plt.show()\n"
   ]
  },
  {
   "cell_type": "code",
   "execution_count": 58,
   "metadata": {},
   "outputs": [
    {
     "data": {
      "text/plain": [
       "<AxesSubplot:>"
      ]
     },
     "execution_count": 58,
     "metadata": {},
     "output_type": "execute_result"
    },
    {
     "data": {
      "image/png": "[encoded data removed]",
      "text/plain": [
       "<Figure size 432x288 with 1 Axes>"
      ]
     },
     "metadata": {
      "needs_background": "light"
     },
     "output_type": "display_data"
    }
   ],
   "source": [
    "# We can seee that there is a high percentage of null values\n",
    "df.isnull().mean(0).plot.bar()"
   ]
  },
  {
   "cell_type": "markdown",
   "metadata": {},
   "source": [
    "Here, we try to reduce the number of attributes, dropping off the ones that are irrelevant to our work. Below is the updated data."
   ]
  },
  {
   "cell_type": "code",
   "execution_count": 31,
   "metadata": {},
   "outputs": [
    {
     "data": {
      "text/html": [
       "<div>\n",
       "<style scoped>\n",
       "    .dataframe tbody tr th:only-of-type {\n",
       "        vertical-align: middle;\n",
       "    }\n",
       "\n",
       "    .dataframe tbody tr th {\n",
       "        vertical-align: top;\n",
       "    }\n",
       "\n",
       "    .dataframe thead th {\n",
       "        text-align: right;\n",
       "    }\n",
       "</style>\n",
       "<table border=\"1\" class=\"dataframe\">\n",
       "  <thead>\n",
       "    <tr style=\"text-align: right;\">\n",
       "      <th></th>\n",
       "      <th>Product</th>\n",
       "      <th>Sub-product</th>\n",
       "      <th>Issue</th>\n",
       "      <th>Sub-issue</th>\n",
       "      <th>Consumer complaint narrative</th>\n",
       "      <th>Company public response</th>\n",
       "      <th>Company</th>\n",
       "      <th>State</th>\n",
       "      <th>Submitted via</th>\n",
       "      <th>Company response to consumer</th>\n",
       "      <th>Consumer disputed?</th>\n",
       "    </tr>\n",
       "  </thead>\n",
       "  <tbody>\n",
       "    <tr>\n",
       "      <th>0</th>\n",
       "      <td>Mortgage</td>\n",
       "      <td>Conventional home mortgage</td>\n",
       "      <td>Trouble during payment process</td>\n",
       "      <td>NaN</td>\n",
       "      <td>NaN</td>\n",
       "      <td>Company has responded to the consumer and the ...</td>\n",
       "      <td>Freedom Mortgage Company</td>\n",
       "      <td>CA</td>\n",
       "      <td>Postal mail</td>\n",
       "      <td>Closed with explanation</td>\n",
       "      <td>NaN</td>\n",
       "    </tr>\n",
       "    <tr>\n",
       "      <th>1</th>\n",
       "      <td>Credit reporting, credit repair services, or o...</td>\n",
       "      <td>Credit reporting</td>\n",
       "      <td>Improper use of your report</td>\n",
       "      <td>Reporting company used your report improperly</td>\n",
       "      <td>NaN</td>\n",
       "      <td>NaN</td>\n",
       "      <td>AMERICAN EXPRESS COMPANY</td>\n",
       "      <td>GA</td>\n",
       "      <td>Web</td>\n",
       "      <td>Closed with non-monetary relief</td>\n",
       "      <td>NaN</td>\n",
       "    </tr>\n",
       "    <tr>\n",
       "      <th>2</th>\n",
       "      <td>Credit reporting, credit repair services, or o...</td>\n",
       "      <td>Credit reporting</td>\n",
       "      <td>Incorrect information on your report</td>\n",
       "      <td>Information belongs to someone else</td>\n",
       "      <td>NaN</td>\n",
       "      <td>NaN</td>\n",
       "      <td>Experian Information Solutions Inc.</td>\n",
       "      <td>TX</td>\n",
       "      <td>Web</td>\n",
       "      <td>In progress</td>\n",
       "      <td>NaN</td>\n",
       "    </tr>\n",
       "    <tr>\n",
       "      <th>3</th>\n",
       "      <td>Credit reporting, credit repair services, or o...</td>\n",
       "      <td>Credit reporting</td>\n",
       "      <td>Improper use of your report</td>\n",
       "      <td>Reporting company used your report improperly</td>\n",
       "      <td>NaN</td>\n",
       "      <td>NaN</td>\n",
       "      <td>Frontline Asset Strategies, LLC</td>\n",
       "      <td>TX</td>\n",
       "      <td>Web</td>\n",
       "      <td>Closed with explanation</td>\n",
       "      <td>NaN</td>\n",
       "    </tr>\n",
       "    <tr>\n",
       "      <th>4</th>\n",
       "      <td>Credit reporting, credit repair services, or o...</td>\n",
       "      <td>Credit reporting</td>\n",
       "      <td>Incorrect information on your report</td>\n",
       "      <td>Personal information incorrect</td>\n",
       "      <td>NaN</td>\n",
       "      <td>Company has responded to the consumer and the ...</td>\n",
       "      <td>Experian Information Solutions Inc.</td>\n",
       "      <td>NY</td>\n",
       "      <td>Web</td>\n",
       "      <td>Closed with non-monetary relief</td>\n",
       "      <td>NaN</td>\n",
       "    </tr>\n",
       "  </tbody>\n",
       "</table>\n",
       "</div>"
      ],
      "text/plain": [
       "                                             Product  \\\n",
       "0                                           Mortgage   \n",
       "1  Credit reporting, credit repair services, or o...   \n",
       "2  Credit reporting, credit repair services, or o...   \n",
       "3  Credit reporting, credit repair services, or o...   \n",
       "4  Credit reporting, credit repair services, or o...   \n",
       "\n",
       "                  Sub-product                                 Issue  \\\n",
       "0  Conventional home mortgage        Trouble during payment process   \n",
       "1            Credit reporting           Improper use of your report   \n",
       "2            Credit reporting  Incorrect information on your report   \n",
       "3            Credit reporting           Improper use of your report   \n",
       "4            Credit reporting  Incorrect information on your report   \n",
       "\n",
       "                                       Sub-issue Consumer complaint narrative  \\\n",
       "0                                            NaN                          NaN   \n",
       "1  Reporting company used your report improperly                          NaN   \n",
       "2            Information belongs to someone else                          NaN   \n",
       "3  Reporting company used your report improperly                          NaN   \n",
       "4                 Personal information incorrect                          NaN   \n",
       "\n",
       "                             Company public response  \\\n",
       "0  Company has responded to the consumer and the ...   \n",
       "1                                                NaN   \n",
       "2                                                NaN   \n",
       "3                                                NaN   \n",
       "4  Company has responded to the consumer and the ...   \n",
       "\n",
       "                               Company State Submitted via  \\\n",
       "0             Freedom Mortgage Company    CA   Postal mail   \n",
       "1             AMERICAN EXPRESS COMPANY    GA           Web   \n",
       "2  Experian Information Solutions Inc.    TX           Web   \n",
       "3      Frontline Asset Strategies, LLC    TX           Web   \n",
       "4  Experian Information Solutions Inc.    NY           Web   \n",
       "\n",
       "      Company response to consumer Consumer disputed?  \n",
       "0          Closed with explanation                NaN  \n",
       "1  Closed with non-monetary relief                NaN  \n",
       "2                      In progress                NaN  \n",
       "3          Closed with explanation                NaN  \n",
       "4  Closed with non-monetary relief                NaN  "
      ]
     },
     "execution_count": 31,
     "metadata": {},
     "output_type": "execute_result"
    }
   ],
   "source": [
    "# Keeping the relevant attributes from the dataset\n",
    "df_less = df[['Product', 'Sub-product', 'Issue', 'Sub-issue', 'Consumer complaint narrative', 'Company public response', 'Company', 'State','Submitted via', 'Company response to consumer', 'Consumer disputed?']]\n",
    "df_less.shape\n",
    "df_less.head()\n"
   ]
  },
  {
   "cell_type": "markdown",
   "metadata": {},
   "source": [
    "Here, we will calculate the percentage of data that actually has text in the 'Consumer complaint narrative'. This will tell us how much of the data is actually meaningful to us. \n",
    "\n",
    "We see that around 35.9 percentage of data is meaningful to us out of the entire dataset. Considering that the data has 3041367 lines, 35.9% is approx. 1091850.753 which is still significantly meaningful to our work. Since we are performing text analysis, we should be able to work on this dataset."
   ]
  },
  {
   "cell_type": "code",
   "execution_count": 32,
   "metadata": {},
   "outputs": [
    {
     "data": {
      "text/plain": [
       "35.88803981893668"
      ]
     },
     "execution_count": 32,
     "metadata": {},
     "output_type": "execute_result"
    }
   ],
   "source": [
    "# Since we are doing text analysis using mostly the consumer complaint narrative, we will drop the rows where val. for narrative is NaN\n",
    "df_less['Consumer complaint narrative'].notnull().sum() / len(df) * 100"
   ]
  },
  {
   "cell_type": "markdown",
   "metadata": {},
   "source": [
    "Here, we get rid of the data that has none (NaN) in the 'Consumer complaint narrative'. This will make our process more efficeient as we don't have to go through the redundant data. Number of lines was reduced from 3041367 to 1091487. "
   ]
  },
  {
   "cell_type": "code",
   "execution_count": 33,
   "metadata": {},
   "outputs": [
    {
     "data": {
      "text/plain": [
       "(1091487, 11)"
      ]
     },
     "execution_count": 33,
     "metadata": {},
     "output_type": "execute_result"
    }
   ],
   "source": [
    "df_less_1 = df_less[pd.notnull(df_less['Consumer complaint narrative'])]\n",
    "df_less_1.shape\n"
   ]
  },
  {
   "cell_type": "code",
   "execution_count": 34,
   "metadata": {},
   "outputs": [
    {
     "data": {
      "text/html": [
       "<div>\n",
       "<style scoped>\n",
       "    .dataframe tbody tr th:only-of-type {\n",
       "        vertical-align: middle;\n",
       "    }\n",
       "\n",
       "    .dataframe tbody tr th {\n",
       "        vertical-align: top;\n",
       "    }\n",
       "\n",
       "    .dataframe thead th {\n",
       "        text-align: right;\n",
       "    }\n",
       "</style>\n",
       "<table border=\"1\" class=\"dataframe\">\n",
       "  <thead>\n",
       "    <tr style=\"text-align: right;\">\n",
       "      <th></th>\n",
       "      <th>Product</th>\n",
       "      <th>Sub-product</th>\n",
       "      <th>Issue</th>\n",
       "      <th>Sub-issue</th>\n",
       "      <th>Consumer complaint narrative</th>\n",
       "      <th>Company public response</th>\n",
       "      <th>Company</th>\n",
       "      <th>State</th>\n",
       "      <th>Submitted via</th>\n",
       "      <th>Company response to consumer</th>\n",
       "      <th>Consumer disputed?</th>\n",
       "    </tr>\n",
       "  </thead>\n",
       "  <tbody>\n",
       "    <tr>\n",
       "      <th>5</th>\n",
       "      <td>Credit card or prepaid card</td>\n",
       "      <td>General-purpose credit card or charge card</td>\n",
       "      <td>Problem with a purchase shown on your statement</td>\n",
       "      <td>Card was charged for something you did not pur...</td>\n",
       "      <td>my original credit card with universal card ac...</td>\n",
       "      <td>Company has responded to the consumer and the ...</td>\n",
       "      <td>CITIBANK, N.A.</td>\n",
       "      <td>GA</td>\n",
       "      <td>Web</td>\n",
       "      <td>Closed with monetary relief</td>\n",
       "      <td>NaN</td>\n",
       "    </tr>\n",
       "    <tr>\n",
       "      <th>15</th>\n",
       "      <td>Credit reporting, credit repair services, or o...</td>\n",
       "      <td>Credit reporting</td>\n",
       "      <td>Incorrect information on your report</td>\n",
       "      <td>Account status incorrect</td>\n",
       "      <td>Hello, In XXXX, my Macy 's credit card was clo...</td>\n",
       "      <td>Company has responded to the consumer and the ...</td>\n",
       "      <td>CITIBANK, N.A.</td>\n",
       "      <td>MA</td>\n",
       "      <td>Web</td>\n",
       "      <td>Closed with monetary relief</td>\n",
       "      <td>NaN</td>\n",
       "    </tr>\n",
       "    <tr>\n",
       "      <th>18</th>\n",
       "      <td>Vehicle loan or lease</td>\n",
       "      <td>Loan</td>\n",
       "      <td>Struggling to pay your loan</td>\n",
       "      <td>Lender trying to repossess or disable the vehicle</td>\n",
       "      <td>On XX/XX/XXXX I was taken out of work due to a...</td>\n",
       "      <td>Company believes it acted appropriately as aut...</td>\n",
       "      <td>Automotive Partners Funding</td>\n",
       "      <td>AZ</td>\n",
       "      <td>Web</td>\n",
       "      <td>Closed with explanation</td>\n",
       "      <td>NaN</td>\n",
       "    </tr>\n",
       "    <tr>\n",
       "      <th>48</th>\n",
       "      <td>Debt collection</td>\n",
       "      <td>Other debt</td>\n",
       "      <td>Attempts to collect debt not owed</td>\n",
       "      <td>Debt was paid</td>\n",
       "      <td>Hey all items been paid and full but still sho...</td>\n",
       "      <td>Company has responded to the consumer and the ...</td>\n",
       "      <td>I.C. System, Inc.</td>\n",
       "      <td>TX</td>\n",
       "      <td>Web</td>\n",
       "      <td>Closed with explanation</td>\n",
       "      <td>NaN</td>\n",
       "    </tr>\n",
       "    <tr>\n",
       "      <th>53</th>\n",
       "      <td>Mortgage</td>\n",
       "      <td>Conventional home mortgage</td>\n",
       "      <td>Closing on a mortgage</td>\n",
       "      <td>NaN</td>\n",
       "      <td>As the executor of my mother 's estate I sold ...</td>\n",
       "      <td>Company believes it acted appropriately as aut...</td>\n",
       "      <td>SELECT PORTFOLIO SERVICING, INC.</td>\n",
       "      <td>MD</td>\n",
       "      <td>Web</td>\n",
       "      <td>Closed with explanation</td>\n",
       "      <td>NaN</td>\n",
       "    </tr>\n",
       "  </tbody>\n",
       "</table>\n",
       "</div>"
      ],
      "text/plain": [
       "                                              Product  \\\n",
       "5                         Credit card or prepaid card   \n",
       "15  Credit reporting, credit repair services, or o...   \n",
       "18                              Vehicle loan or lease   \n",
       "48                                    Debt collection   \n",
       "53                                           Mortgage   \n",
       "\n",
       "                                   Sub-product  \\\n",
       "5   General-purpose credit card or charge card   \n",
       "15                            Credit reporting   \n",
       "18                                        Loan   \n",
       "48                                  Other debt   \n",
       "53                  Conventional home mortgage   \n",
       "\n",
       "                                              Issue  \\\n",
       "5   Problem with a purchase shown on your statement   \n",
       "15             Incorrect information on your report   \n",
       "18                      Struggling to pay your loan   \n",
       "48                Attempts to collect debt not owed   \n",
       "53                            Closing on a mortgage   \n",
       "\n",
       "                                            Sub-issue  \\\n",
       "5   Card was charged for something you did not pur...   \n",
       "15                           Account status incorrect   \n",
       "18  Lender trying to repossess or disable the vehicle   \n",
       "48                                      Debt was paid   \n",
       "53                                                NaN   \n",
       "\n",
       "                         Consumer complaint narrative  \\\n",
       "5   my original credit card with universal card ac...   \n",
       "15  Hello, In XXXX, my Macy 's credit card was clo...   \n",
       "18  On XX/XX/XXXX I was taken out of work due to a...   \n",
       "48  Hey all items been paid and full but still sho...   \n",
       "53  As the executor of my mother 's estate I sold ...   \n",
       "\n",
       "                              Company public response  \\\n",
       "5   Company has responded to the consumer and the ...   \n",
       "15  Company has responded to the consumer and the ...   \n",
       "18  Company believes it acted appropriately as aut...   \n",
       "48  Company has responded to the consumer and the ...   \n",
       "53  Company believes it acted appropriately as aut...   \n",
       "\n",
       "                             Company State Submitted via  \\\n",
       "5                     CITIBANK, N.A.    GA           Web   \n",
       "15                    CITIBANK, N.A.    MA           Web   \n",
       "18       Automotive Partners Funding    AZ           Web   \n",
       "48                 I.C. System, Inc.    TX           Web   \n",
       "53  SELECT PORTFOLIO SERVICING, INC.    MD           Web   \n",
       "\n",
       "   Company response to consumer Consumer disputed?  \n",
       "5   Closed with monetary relief                NaN  \n",
       "15  Closed with monetary relief                NaN  \n",
       "18      Closed with explanation                NaN  \n",
       "48      Closed with explanation                NaN  \n",
       "53      Closed with explanation                NaN  "
      ]
     },
     "execution_count": 34,
     "metadata": {},
     "output_type": "execute_result"
    }
   ],
   "source": [
    "df_less_1.head()"
   ]
  },
  {
   "cell_type": "code",
   "execution_count": 35,
   "metadata": {},
   "outputs": [
    {
     "data": {
      "text/plain": [
       "35.88803981893668"
      ]
     },
     "execution_count": 35,
     "metadata": {},
     "output_type": "execute_result"
    }
   ],
   "source": [
    "df_less_1['Consumer complaint narrative'].notnull().sum() / len(df) * 100"
   ]
  },
  {
   "cell_type": "code",
   "execution_count": 47,
   "metadata": {},
   "outputs": [
    {
     "data": {
      "text/html": [
       "<div>\n",
       "<style scoped>\n",
       "    .dataframe tbody tr th:only-of-type {\n",
       "        vertical-align: middle;\n",
       "    }\n",
       "\n",
       "    .dataframe tbody tr th {\n",
       "        vertical-align: top;\n",
       "    }\n",
       "\n",
       "    .dataframe thead th {\n",
       "        text-align: right;\n",
       "    }\n",
       "</style>\n",
       "<table border=\"1\" class=\"dataframe\">\n",
       "  <thead>\n",
       "    <tr style=\"text-align: right;\">\n",
       "      <th></th>\n",
       "      <th>Product</th>\n",
       "      <th>Sub-product</th>\n",
       "      <th>Issue</th>\n",
       "      <th>Sub-issue</th>\n",
       "      <th>Consumer complaint narrative</th>\n",
       "      <th>Company public response</th>\n",
       "      <th>Company</th>\n",
       "      <th>State</th>\n",
       "      <th>Submitted via</th>\n",
       "      <th>Company response to consumer</th>\n",
       "      <th>Consumer disputed?</th>\n",
       "    </tr>\n",
       "  </thead>\n",
       "  <tbody>\n",
       "    <tr>\n",
       "      <th>count</th>\n",
       "      <td>1091487</td>\n",
       "      <td>1039279</td>\n",
       "      <td>1091487</td>\n",
       "      <td>898504</td>\n",
       "      <td>1091487</td>\n",
       "      <td>542191</td>\n",
       "      <td>1091487</td>\n",
       "      <td>1086890</td>\n",
       "      <td>1091487</td>\n",
       "      <td>1091485</td>\n",
       "      <td>164060</td>\n",
       "    </tr>\n",
       "    <tr>\n",
       "      <th>unique</th>\n",
       "      <td>18</td>\n",
       "      <td>75</td>\n",
       "      <td>160</td>\n",
       "      <td>216</td>\n",
       "      <td>954855</td>\n",
       "      <td>11</td>\n",
       "      <td>5477</td>\n",
       "      <td>63</td>\n",
       "      <td>1</td>\n",
       "      <td>6</td>\n",
       "      <td>2</td>\n",
       "    </tr>\n",
       "    <tr>\n",
       "      <th>top</th>\n",
       "      <td>Credit reporting, credit repair services, or o...</td>\n",
       "      <td>Credit reporting</td>\n",
       "      <td>Incorrect information on your report</td>\n",
       "      <td>Information belongs to someone else</td>\n",
       "      <td>My credit reports are inaccurate. These inaccu...</td>\n",
       "      <td>Company has responded to the consumer and the ...</td>\n",
       "      <td>EQUIFAX, INC.</td>\n",
       "      <td>CA</td>\n",
       "      <td>Web</td>\n",
       "      <td>Closed with explanation</td>\n",
       "      <td>No</td>\n",
       "    </tr>\n",
       "    <tr>\n",
       "      <th>freq</th>\n",
       "      <td>499697</td>\n",
       "      <td>491626</td>\n",
       "      <td>243425</td>\n",
       "      <td>127509</td>\n",
       "      <td>1599</td>\n",
       "      <td>446223</td>\n",
       "      <td>163078</td>\n",
       "      <td>136235</td>\n",
       "      <td>1091487</td>\n",
       "      <td>875979</td>\n",
       "      <td>128253</td>\n",
       "    </tr>\n",
       "  </tbody>\n",
       "</table>\n",
       "</div>"
      ],
      "text/plain": [
       "                                                  Product       Sub-product  \\\n",
       "count                                             1091487           1039279   \n",
       "unique                                                 18                75   \n",
       "top     Credit reporting, credit repair services, or o...  Credit reporting   \n",
       "freq                                               499697            491626   \n",
       "\n",
       "                                       Issue  \\\n",
       "count                                1091487   \n",
       "unique                                   160   \n",
       "top     Incorrect information on your report   \n",
       "freq                                  243425   \n",
       "\n",
       "                                  Sub-issue  \\\n",
       "count                                898504   \n",
       "unique                                  216   \n",
       "top     Information belongs to someone else   \n",
       "freq                                 127509   \n",
       "\n",
       "                             Consumer complaint narrative  \\\n",
       "count                                             1091487   \n",
       "unique                                             954855   \n",
       "top     My credit reports are inaccurate. These inaccu...   \n",
       "freq                                                 1599   \n",
       "\n",
       "                                  Company public response        Company  \\\n",
       "count                                              542191        1091487   \n",
       "unique                                                 11           5477   \n",
       "top     Company has responded to the consumer and the ...  EQUIFAX, INC.   \n",
       "freq                                               446223         163078   \n",
       "\n",
       "          State Submitted via Company response to consumer Consumer disputed?  \n",
       "count   1086890       1091487                      1091485             164060  \n",
       "unique       63             1                            6                  2  \n",
       "top          CA           Web      Closed with explanation                 No  \n",
       "freq     136235       1091487                       875979             128253  "
      ]
     },
     "execution_count": 47,
     "metadata": {},
     "output_type": "execute_result"
    }
   ],
   "source": [
    "df_less_1.describe()\n"
   ]
  },
  {
   "cell_type": "code",
   "execution_count": 51,
   "metadata": {},
   "outputs": [
    {
     "data": {
      "text/plain": [
       "Product                              0\n",
       "Sub-product                      52208\n",
       "Issue                                0\n",
       "Sub-issue                       192983\n",
       "Consumer complaint narrative         0\n",
       "Company public response         549296\n",
       "Company                              0\n",
       "State                             4597\n",
       "Submitted via                        0\n",
       "Company response to consumer         2\n",
       "Consumer disputed?              927427\n",
       "dtype: int64"
      ]
     },
     "execution_count": 51,
     "metadata": {},
     "output_type": "execute_result"
    }
   ],
   "source": [
    "# Determining the missing values\n",
    "df_less_1.isnull().sum(0)"
   ]
  },
  {
   "cell_type": "markdown",
   "metadata": {},
   "source": [
    "#### Patterns\n",
    "\n",
    "One of the pattern that I see for this is a lot of attributes for the data have missing values. As seen below from the percentage bar plot. "
   ]
  },
  {
   "cell_type": "code",
   "execution_count": 57,
   "metadata": {},
   "outputs": [
    {
     "data": {
      "text/plain": [
       "<AxesSubplot:>"
      ]
     },
     "execution_count": 57,
     "metadata": {},
     "output_type": "execute_result"
    },
    {
     "data": {
      "image/png": "[encoded data removed]",
      "text/plain": [
       "<Figure size 432x288 with 1 Axes>"
      ]
     },
     "metadata": {
      "needs_background": "light"
     },
     "output_type": "display_data"
    }
   ],
   "source": [
    "# Determining the missing values (percentage)\n",
    "df_less_1.isnull().mean(0).plot.bar()\n"
   ]
  },
  {
   "cell_type": "markdown",
   "metadata": {},
   "source": [
    "#### Challenges\n",
    "\n",
    "One of the challenges that I see that can occue in the future is that since certain attributes have missing values, certain Machine Learning algorithms do not accept missing values. We can see that certain attributes like 'Consumer disputed?' has a huge percentage of missing vlaues. So even if we try to fill in the missing values with something, it would result in inaccurate data. "
   ]
  },
  {
   "cell_type": "code",
   "execution_count": null,
   "metadata": {},
   "outputs": [],
   "source": []
  }
 ],
 "metadata": {
  "kernelspec": {
   "display_name": "Python 3 (ipykernel)",
   "language": "python",
   "name": "python3"
  },
  "language_info": {
   "codemirror_mode": {
    "name": "ipython",
    "version": 3
   },
   "file_extension": ".py",
   "mimetype": "text/x-python",
   "name": "python",
   "nbconvert_exporter": "python",
   "pygments_lexer": "ipython3",
   "version": "3.9.12"
  },
  "vscode": {
   "interpreter": {
    "hash": "9af26967f52218773d7bb0f1bf34c2bf9b6be081403aa8b1e9693beec522ca38"
   }
  }
 },
 "nbformat": 4,
 "nbformat_minor": 4
}
