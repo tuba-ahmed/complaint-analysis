{
 "cells": [
  {
   "cell_type": "code",
   "execution_count": 1,
   "metadata": {},
   "outputs": [],
   "source": [
    "import pandas as pd\n",
    "import seaborn as sb\n",
    "import matplotlib.pyplot as plt"
   ]
  },
  {
   "cell_type": "code",
   "execution_count": 4,
   "metadata": {},
   "outputs": [
    {
     "name": "stderr",
     "output_type": "stream",
     "text": [
      "c:\\Users\\akaid\\anaconda3\\lib\\site-packages\\IPython\\core\\interactiveshell.py:3146: DtypeWarning: Columns (9,16) have mixed types.Specify dtype option on import or set low_memory=False.\n",
      "  has_raised = await self.run_ast_nodes(code_ast.body, cell_name,\n"
     ]
    }
   ],
   "source": [
    "# Reading the data\n",
    "df = pd.read_csv('complaints.csv')"
   ]
  },
  {
   "cell_type": "code",
   "execution_count": 8,
   "metadata": {},
   "outputs": [
    {
     "data": {
      "text/html": [
       "<div>\n",
       "<style scoped>\n",
       "    .dataframe tbody tr th:only-of-type {\n",
       "        vertical-align: middle;\n",
       "    }\n",
       "\n",
       "    .dataframe tbody tr th {\n",
       "        vertical-align: top;\n",
       "    }\n",
       "\n",
       "    .dataframe thead th {\n",
       "        text-align: right;\n",
       "    }\n",
       "</style>\n",
       "<table border=\"1\" class=\"dataframe\">\n",
       "  <thead>\n",
       "    <tr style=\"text-align: right;\">\n",
       "      <th></th>\n",
       "      <th>Date received</th>\n",
       "      <th>Product</th>\n",
       "      <th>Sub-product</th>\n",
       "      <th>Issue</th>\n",
       "      <th>Sub-issue</th>\n",
       "      <th>Consumer complaint narrative</th>\n",
       "      <th>Company public response</th>\n",
       "      <th>Company</th>\n",
       "      <th>State</th>\n",
       "      <th>ZIP code</th>\n",
       "      <th>Tags</th>\n",
       "      <th>Consumer consent provided?</th>\n",
       "      <th>Submitted via</th>\n",
       "      <th>Date sent to company</th>\n",
       "      <th>Company response to consumer</th>\n",
       "      <th>Timely response?</th>\n",
       "      <th>Consumer disputed?</th>\n",
       "      <th>Complaint ID</th>\n",
       "    </tr>\n",
       "  </thead>\n",
       "  <tbody>\n",
       "    <tr>\n",
       "      <th>0</th>\n",
       "      <td>2022-11-22</td>\n",
       "      <td>Credit reporting, credit repair services, or o...</td>\n",
       "      <td>Credit reporting</td>\n",
       "      <td>Improper use of your report</td>\n",
       "      <td>Reporting company used your report improperly</td>\n",
       "      <td>NaN</td>\n",
       "      <td>NaN</td>\n",
       "      <td>EQUIFAX, INC.</td>\n",
       "      <td>OK</td>\n",
       "      <td>74447</td>\n",
       "      <td>Servicemember</td>\n",
       "      <td>NaN</td>\n",
       "      <td>Web</td>\n",
       "      <td>2022-11-22</td>\n",
       "      <td>In progress</td>\n",
       "      <td>Yes</td>\n",
       "      <td>NaN</td>\n",
       "      <td>6231498</td>\n",
       "    </tr>\n",
       "    <tr>\n",
       "      <th>1</th>\n",
       "      <td>2022-11-16</td>\n",
       "      <td>Credit reporting, credit repair services, or o...</td>\n",
       "      <td>Credit reporting</td>\n",
       "      <td>Problem with a credit reporting company's inve...</td>\n",
       "      <td>Their investigation did not fix an error on yo...</td>\n",
       "      <td>NaN</td>\n",
       "      <td>NaN</td>\n",
       "      <td>Experian Information Solutions Inc.</td>\n",
       "      <td>NJ</td>\n",
       "      <td>7093</td>\n",
       "      <td>NaN</td>\n",
       "      <td>NaN</td>\n",
       "      <td>Web</td>\n",
       "      <td>2022-11-16</td>\n",
       "      <td>In progress</td>\n",
       "      <td>Yes</td>\n",
       "      <td>NaN</td>\n",
       "      <td>6205383</td>\n",
       "    </tr>\n",
       "    <tr>\n",
       "      <th>2</th>\n",
       "      <td>2022-11-09</td>\n",
       "      <td>Debt collection</td>\n",
       "      <td>Credit card debt</td>\n",
       "      <td>Took or threatened to take negative or legal a...</td>\n",
       "      <td>Threatened or suggested your credit would be d...</td>\n",
       "      <td>NaN</td>\n",
       "      <td>NaN</td>\n",
       "      <td>Genesis FS Card Services, Inc.</td>\n",
       "      <td>TX</td>\n",
       "      <td>75038</td>\n",
       "      <td>NaN</td>\n",
       "      <td>NaN</td>\n",
       "      <td>Web</td>\n",
       "      <td>2022-11-09</td>\n",
       "      <td>Closed with explanation</td>\n",
       "      <td>Yes</td>\n",
       "      <td>NaN</td>\n",
       "      <td>6182699</td>\n",
       "    </tr>\n",
       "    <tr>\n",
       "      <th>3</th>\n",
       "      <td>2022-11-07</td>\n",
       "      <td>Mortgage</td>\n",
       "      <td>Other type of mortgage</td>\n",
       "      <td>Trouble during payment process</td>\n",
       "      <td>NaN</td>\n",
       "      <td>NaN</td>\n",
       "      <td>NaN</td>\n",
       "      <td>NORTHERN OHIO INVESTMENT COMPANY</td>\n",
       "      <td>MO</td>\n",
       "      <td>63031</td>\n",
       "      <td>NaN</td>\n",
       "      <td>Other</td>\n",
       "      <td>Web</td>\n",
       "      <td>2022-11-08</td>\n",
       "      <td>Untimely response</td>\n",
       "      <td>No</td>\n",
       "      <td>NaN</td>\n",
       "      <td>6173945</td>\n",
       "    </tr>\n",
       "    <tr>\n",
       "      <th>4</th>\n",
       "      <td>2022-11-07</td>\n",
       "      <td>Debt collection</td>\n",
       "      <td>Other debt</td>\n",
       "      <td>Attempts to collect debt not owed</td>\n",
       "      <td>Debt is not yours</td>\n",
       "      <td>NaN</td>\n",
       "      <td>NaN</td>\n",
       "      <td>R &amp; R Collection Service, Inc.</td>\n",
       "      <td>MO</td>\n",
       "      <td>64154</td>\n",
       "      <td>NaN</td>\n",
       "      <td>NaN</td>\n",
       "      <td>Phone</td>\n",
       "      <td>2022-11-07</td>\n",
       "      <td>Untimely response</td>\n",
       "      <td>No</td>\n",
       "      <td>NaN</td>\n",
       "      <td>6175998</td>\n",
       "    </tr>\n",
       "  </tbody>\n",
       "</table>\n",
       "</div>"
      ],
      "text/plain": [
       "  Date received                                            Product  \\\n",
       "0    2022-11-22  Credit reporting, credit repair services, or o...   \n",
       "1    2022-11-16  Credit reporting, credit repair services, or o...   \n",
       "2    2022-11-09                                    Debt collection   \n",
       "3    2022-11-07                                           Mortgage   \n",
       "4    2022-11-07                                    Debt collection   \n",
       "\n",
       "              Sub-product                                              Issue  \\\n",
       "0        Credit reporting                        Improper use of your report   \n",
       "1        Credit reporting  Problem with a credit reporting company's inve...   \n",
       "2        Credit card debt  Took or threatened to take negative or legal a...   \n",
       "3  Other type of mortgage                     Trouble during payment process   \n",
       "4              Other debt                  Attempts to collect debt not owed   \n",
       "\n",
       "                                           Sub-issue  \\\n",
       "0      Reporting company used your report improperly   \n",
       "1  Their investigation did not fix an error on yo...   \n",
       "2  Threatened or suggested your credit would be d...   \n",
       "3                                                NaN   \n",
       "4                                  Debt is not yours   \n",
       "\n",
       "  Consumer complaint narrative Company public response  \\\n",
       "0                          NaN                     NaN   \n",
       "1                          NaN                     NaN   \n",
       "2                          NaN                     NaN   \n",
       "3                          NaN                     NaN   \n",
       "4                          NaN                     NaN   \n",
       "\n",
       "                               Company State ZIP code           Tags  \\\n",
       "0                        EQUIFAX, INC.    OK    74447  Servicemember   \n",
       "1  Experian Information Solutions Inc.    NJ     7093            NaN   \n",
       "2       Genesis FS Card Services, Inc.    TX    75038            NaN   \n",
       "3     NORTHERN OHIO INVESTMENT COMPANY    MO    63031            NaN   \n",
       "4       R & R Collection Service, Inc.    MO    64154            NaN   \n",
       "\n",
       "  Consumer consent provided? Submitted via Date sent to company  \\\n",
       "0                        NaN           Web           2022-11-22   \n",
       "1                        NaN           Web           2022-11-16   \n",
       "2                        NaN           Web           2022-11-09   \n",
       "3                      Other           Web           2022-11-08   \n",
       "4                        NaN         Phone           2022-11-07   \n",
       "\n",
       "  Company response to consumer Timely response? Consumer disputed?  \\\n",
       "0                  In progress              Yes                NaN   \n",
       "1                  In progress              Yes                NaN   \n",
       "2      Closed with explanation              Yes                NaN   \n",
       "3            Untimely response               No                NaN   \n",
       "4            Untimely response               No                NaN   \n",
       "\n",
       "   Complaint ID  \n",
       "0       6231498  \n",
       "1       6205383  \n",
       "2       6182699  \n",
       "3       6173945  \n",
       "4       6175998  "
      ]
     },
     "execution_count": 8,
     "metadata": {},
     "output_type": "execute_result"
    }
   ],
   "source": [
    "# Initial investiogation of the data\n",
    "df.head()\n"
   ]
  },
  {
   "cell_type": "code",
   "execution_count": 9,
   "metadata": {},
   "outputs": [
    {
     "name": "stdout",
     "output_type": "stream",
     "text": [
      "(3096756, 18)\n"
     ]
    }
   ],
   "source": [
    "print(df.shape)"
   ]
  },
  {
   "cell_type": "code",
   "execution_count": 13,
   "metadata": {},
   "outputs": [
    {
     "ename": "NameError",
     "evalue": "name 'head' is not defined",
     "output_type": "error",
     "traceback": [
      "\u001b[1;31m---------------------------------------------------------------------------\u001b[0m",
      "\u001b[1;31mNameError\u001b[0m                                 Traceback (most recent call last)",
      "\u001b[1;32m<ipython-input-13-be47d1421b08>\u001b[0m in \u001b[0;36m<module>\u001b[1;34m\u001b[0m\n\u001b[0;32m      4\u001b[0m \u001b[1;34m''' Renaming the columns for ease of access'''\u001b[0m\u001b[1;33m\u001b[0m\u001b[1;33m\u001b[0m\u001b[0m\n\u001b[0;32m      5\u001b[0m \u001b[0mdf\u001b[0m \u001b[1;33m=\u001b[0m \u001b[0mdf\u001b[0m\u001b[1;33m.\u001b[0m\u001b[0mrename\u001b[0m\u001b[1;33m(\u001b[0m\u001b[0mcolumns\u001b[0m\u001b[1;33m=\u001b[0m\u001b[1;33m{\u001b[0m\u001b[1;34m'Date received'\u001b[0m\u001b[1;33m:\u001b[0m\u001b[1;34m'date_received'\u001b[0m\u001b[1;33m,\u001b[0m \u001b[1;34m'Product'\u001b[0m\u001b[1;33m:\u001b[0m\u001b[1;34m'product'\u001b[0m\u001b[1;33m,\u001b[0m \u001b[1;34m'Sub-product'\u001b[0m\u001b[1;33m:\u001b[0m\u001b[1;34m'sub_product'\u001b[0m\u001b[1;33m,\u001b[0m \u001b[1;34m'Issue'\u001b[0m\u001b[1;33m:\u001b[0m\u001b[1;34m'issue'\u001b[0m\u001b[1;33m,\u001b[0m \u001b[1;34m'Sub-issue'\u001b[0m\u001b[1;33m:\u001b[0m\u001b[1;34m'sub_issue'\u001b[0m\u001b[1;33m,\u001b[0m \u001b[1;34m'Consumer complaint narrative'\u001b[0m\u001b[1;33m:\u001b[0m\u001b[1;34m'narrative'\u001b[0m\u001b[1;33m,\u001b[0m \u001b[1;34m'Company public response'\u001b[0m\u001b[1;33m:\u001b[0m\u001b[1;34m'response_public'\u001b[0m\u001b[1;33m,\u001b[0m \u001b[1;34m'Company'\u001b[0m\u001b[1;33m:\u001b[0m\u001b[1;34m'company'\u001b[0m\u001b[1;33m,\u001b[0m \u001b[1;34m'State'\u001b[0m\u001b[1;33m:\u001b[0m\u001b[1;34m'state'\u001b[0m\u001b[1;33m,\u001b[0m \u001b[1;34m'ZIP code'\u001b[0m\u001b[1;33m:\u001b[0m\u001b[1;34m'zip'\u001b[0m\u001b[1;33m,\u001b[0m \u001b[1;34m'Tags'\u001b[0m\u001b[1;33m:\u001b[0m\u001b[1;34m'tags'\u001b[0m\u001b[1;33m,\u001b[0m \u001b[1;34m'Consumer consent provided?'\u001b[0m\u001b[1;33m:\u001b[0m\u001b[1;34m'consent'\u001b[0m\u001b[1;33m,\u001b[0m \u001b[1;34m'Submitted via'\u001b[0m\u001b[1;33m:\u001b[0m\u001b[1;34m'submitted_via'\u001b[0m\u001b[1;33m,\u001b[0m \u001b[1;34m'Date sent to company'\u001b[0m\u001b[1;33m:\u001b[0m\u001b[1;34m'date_sent'\u001b[0m\u001b[1;33m,\u001b[0m \u001b[1;34m'Company response to consumer'\u001b[0m\u001b[1;33m:\u001b[0m\u001b[1;34m'response_to_cust'\u001b[0m\u001b[1;33m,\u001b[0m \u001b[1;34m'Timely response?'\u001b[0m\u001b[1;33m:\u001b[0m\u001b[1;34m'timely_resp'\u001b[0m\u001b[1;33m,\u001b[0m \u001b[1;34m'Consumer disputed?'\u001b[0m\u001b[1;33m:\u001b[0m\u001b[1;34m'consumer_disputed'\u001b[0m\u001b[1;33m,\u001b[0m \u001b[1;34m'Complaint ID'\u001b[0m\u001b[1;33m:\u001b[0m\u001b[1;34m'id'\u001b[0m\u001b[1;33m}\u001b[0m\u001b[1;33m)\u001b[0m\u001b[1;33m\u001b[0m\u001b[1;33m\u001b[0m\u001b[0m\n\u001b[1;32m----> 6\u001b[1;33m \u001b[0mdf\u001b[0m\u001b[1;33m,\u001b[0m\u001b[0mhead\u001b[0m\u001b[1;33m(\u001b[0m\u001b[1;33m)\u001b[0m\u001b[1;33m\u001b[0m\u001b[1;33m\u001b[0m\u001b[0m\n\u001b[0m",
      "\u001b[1;31mNameError\u001b[0m: name 'head' is not defined"
     ]
    }
   ],
   "source": [
    "col_list = df.columns.tolist()\n",
    "# print(col_list)\n",
    "\n",
    "''' Renaming the columns for ease of access'''\n",
    "df = df.rename(columns={'Date received':'date_received', 'Product':'product', 'Sub-product':'sub_product', 'Issue':'issue', 'Sub-issue':'sub_issue', 'Consumer complaint narrative':'narrative', 'Company public response':'response_public', 'Company':'company', 'State':'state', 'ZIP code':'zip', 'Tags':'tags', 'Consumer consent provided?':'consent', 'Submitted via':'submitted_via', 'Date sent to company':'date_sent', 'Company response to consumer':'response_to_cust', 'Timely response?':'timely_resp', 'Consumer disputed?':'consumer_disputed', 'Complaint ID':'id'})\n",
    "df.head()"
   ]
  },
  {
   "cell_type": "code",
   "execution_count": null,
   "metadata": {},
   "outputs": [],
   "source": []
  },
  {
   "cell_type": "code",
   "execution_count": null,
   "metadata": {},
   "outputs": [],
   "source": [
    "sb.countplot(x='', data=df)"
   ]
  }
 ],
 "metadata": {
  "kernelspec": {
   "display_name": "Python 3.8.5 ('base')",
   "language": "python",
   "name": "python3"
  },
  "language_info": {
   "codemirror_mode": {
    "name": "ipython",
    "version": 3
   },
   "file_extension": ".py",
   "mimetype": "text/x-python",
   "name": "python",
   "nbconvert_exporter": "python",
   "pygments_lexer": "ipython3",
   "version": "3.8.5"
  },
  "orig_nbformat": 4,
  "vscode": {
   "interpreter": {
    "hash": "9af26967f52218773d7bb0f1bf34c2bf9b6be081403aa8b1e9693beec522ca38"
   }
  }
 },
 "nbformat": 4,
 "nbformat_minor": 2
}
